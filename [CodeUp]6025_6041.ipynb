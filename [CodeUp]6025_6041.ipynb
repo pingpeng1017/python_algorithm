{
 "cells": [
  {
   "cell_type": "markdown",
   "id": "5088f128",
   "metadata": {},
   "source": [
    "### **6025 : [기초-값변환] 정수 2개 입력받아 합 계산하기(설명)(py)**"
   ]
  },
  {
   "cell_type": "markdown",
   "id": "d15b2bb3",
   "metadata": {},
   "source": [
    "정수 2개를 입력받아 합을 출력하는 프로그램을 작성해보자.\n",
    "<br>2개의 정수가 공백으로 구분되어 입력된다."
   ]
  },
  {
   "cell_type": "code",
   "execution_count": 1,
   "id": "4c5c2d76",
   "metadata": {},
   "outputs": [
    {
     "name": "stdout",
     "output_type": "stream",
     "text": [
      "123 -123\n",
      "0\n"
     ]
    }
   ],
   "source": [
    "a, b = input().split()\n",
    "print(int(a) + int(b))"
   ]
  },
  {
   "cell_type": "markdown",
   "id": "a87758dd",
   "metadata": {},
   "source": [
    "### **6026 : [기초-값변환] 실수 2개 입력받아 합 계산하기(설명)(py)**"
   ]
  },
  {
   "cell_type": "markdown",
   "id": "9a76cc97",
   "metadata": {},
   "source": [
    "실수 2개를 입력받아 합을 출력하는 프로그램을 작성해보자.\n",
    "<br>2개의 실수가 줄을 바꿔 입력된다."
   ]
  },
  {
   "cell_type": "code",
   "execution_count": 2,
   "id": "186f204b",
   "metadata": {},
   "outputs": [
    {
     "name": "stdout",
     "output_type": "stream",
     "text": [
      "0.1\n",
      "0.9\n",
      "1.0\n"
     ]
    }
   ],
   "source": [
    "a = float(input())\n",
    "b = float(input())\n",
    "print(a + b)"
   ]
  },
  {
   "cell_type": "markdown",
   "id": "af3d766b",
   "metadata": {},
   "source": [
    "### **6027 : [기초-출력변환] 10진 정수 입력받아 16진수로 출력하기1(설명)(py)**"
   ]
  },
  {
   "cell_type": "markdown",
   "id": "732ecb82",
   "metadata": {},
   "source": [
    "10진수를 입력받아 16진수(hexadecimal)로 출력해보자.\n",
    "<br>소문자로 출력된다."
   ]
  },
  {
   "cell_type": "code",
   "execution_count": 3,
   "id": "bc89b5d1",
   "metadata": {},
   "outputs": [
    {
     "name": "stdout",
     "output_type": "stream",
     "text": [
      "255\n",
      "ff\n"
     ]
    }
   ],
   "source": [
    "a = int(input())\n",
    "print('%x'% a)"
   ]
  },
  {
   "cell_type": "markdown",
   "id": "b00c8f78",
   "metadata": {},
   "source": [
    "### **6028 : [기초-출력변환] 10진 정수 입력받아 16진수로 출력하기2(설명)(py)**"
   ]
  },
  {
   "cell_type": "markdown",
   "id": "0cc3d3d1",
   "metadata": {},
   "source": [
    "10진수를 입력받아 16진수(hexadecimal)로 출력해보자.\n",
    "<br>대문자로 출력된다."
   ]
  },
  {
   "cell_type": "code",
   "execution_count": 4,
   "id": "b2995236",
   "metadata": {},
   "outputs": [
    {
     "name": "stdout",
     "output_type": "stream",
     "text": [
      "255\n",
      "FF\n"
     ]
    }
   ],
   "source": [
    "a = int(input())\n",
    "print('%X'% a)"
   ]
  },
  {
   "cell_type": "markdown",
   "id": "3c564de0",
   "metadata": {},
   "source": [
    "### **6029 : [기초-값변환] 16진 정수 입력받아 8진수로 출력하기(설명)(py)**"
   ]
  },
  {
   "cell_type": "markdown",
   "id": "4c6cde6d",
   "metadata": {},
   "source": [
    "16진수를 입력받아 8진수(octal)로 출력해보자."
   ]
  },
  {
   "cell_type": "code",
   "execution_count": 5,
   "id": "2e62d695",
   "metadata": {},
   "outputs": [
    {
     "name": "stdout",
     "output_type": "stream",
     "text": [
      "f\n",
      "17\n"
     ]
    }
   ],
   "source": [
    "a = input()\n",
    "b = int(a, 16)\n",
    "print('%o'% b)"
   ]
  },
  {
   "cell_type": "markdown",
   "id": "b7134a9b",
   "metadata": {},
   "source": [
    "### **6030 : [기초-값변환] 영문자 1개 입력받아 10진수로 변환하기(설명)(py)**"
   ]
  },
  {
   "cell_type": "markdown",
   "id": "fb2d835c",
   "metadata": {},
   "source": [
    "영문자 1개를 입력받아 10진수 유니코드(Unicode) 값으로 출력해보자."
   ]
  },
  {
   "cell_type": "code",
   "execution_count": 6,
   "id": "5ea0dc5e",
   "metadata": {},
   "outputs": [
    {
     "name": "stdout",
     "output_type": "stream",
     "text": [
      "A\n",
      "65\n"
     ]
    }
   ],
   "source": [
    "a = ord(input())\n",
    "print(a)"
   ]
  },
  {
   "cell_type": "markdown",
   "id": "54a87447",
   "metadata": {},
   "source": [
    "### **6031 : [기초-값변환] 정수 입력받아 유니코드 문자로 변환하기(설명)(py)**"
   ]
  },
  {
   "cell_type": "markdown",
   "id": "73db84b7",
   "metadata": {},
   "source": [
    "10진 정수 1개를 입력받아 유니코드 문자로 출력해보자."
   ]
  },
  {
   "cell_type": "code",
   "execution_count": 7,
   "id": "c9d2e5a0",
   "metadata": {},
   "outputs": [
    {
     "name": "stdout",
     "output_type": "stream",
     "text": [
      "65\n",
      "A\n"
     ]
    }
   ],
   "source": [
    "a = int(input())\n",
    "print(chr(a))"
   ]
  },
  {
   "cell_type": "markdown",
   "id": "e3e8f52c",
   "metadata": {},
   "source": [
    "### **6032 : [기초-산술연산] 정수 1개 입력받아 부호 바꾸기(설명)(py)**"
   ]
  },
  {
   "cell_type": "markdown",
   "id": "1ac35cc8",
   "metadata": {},
   "source": [
    "입력된 정수의 부호를 바꿔 출력해보자."
   ]
  },
  {
   "cell_type": "code",
   "execution_count": 8,
   "id": "c8ae5f3c",
   "metadata": {},
   "outputs": [
    {
     "name": "stdout",
     "output_type": "stream",
     "text": [
      "-1\n",
      "1\n"
     ]
    }
   ],
   "source": [
    "a = int(input())\n",
    "print(-a)"
   ]
  },
  {
   "cell_type": "markdown",
   "id": "17dd28aa",
   "metadata": {},
   "source": [
    "### **6033 : [기초-산술연산] 문자 1개 입력받아 다음 문자 출력하기(설명)(py)**"
   ]
  },
  {
   "cell_type": "markdown",
   "id": "8ab0d4f7",
   "metadata": {},
   "source": [
    "문자 1개를 입력받아 그 다음 문자를 출력해보자.\n",
    "<br>영문자 'A'의 다음 문자는 'B'이고, 숫자 '0'의 다음 문자는 '1'이다."
   ]
  },
  {
   "cell_type": "code",
   "execution_count": 9,
   "id": "c091c235",
   "metadata": {},
   "outputs": [
    {
     "name": "stdout",
     "output_type": "stream",
     "text": [
      "a\n",
      "b\n"
     ]
    }
   ],
   "source": [
    "a = ord(input())\n",
    "print(chr(a + 1))"
   ]
  },
  {
   "cell_type": "markdown",
   "id": "d212ed60",
   "metadata": {},
   "source": [
    "### **6034 : [기초-산술연산] 정수 2개 입력받아 차 계산하기(설명)(py)**"
   ]
  },
  {
   "cell_type": "markdown",
   "id": "7618b219",
   "metadata": {},
   "source": [
    "정수 2개(a, b)를 입력받아 a에서 b를 뺀 차를 출력하는 프로그램을 작성해보자.\n",
    "<br>2개의 정수가 공백으로 구분되어 입력된다."
   ]
  },
  {
   "cell_type": "code",
   "execution_count": 10,
   "id": "86b8dd4a",
   "metadata": {},
   "outputs": [
    {
     "name": "stdout",
     "output_type": "stream",
     "text": [
      "123 -123\n",
      "246\n"
     ]
    }
   ],
   "source": [
    "a, b = map(int, input().split())\n",
    "print(a - b)"
   ]
  },
  {
   "cell_type": "markdown",
   "id": "2675adfc",
   "metadata": {},
   "source": [
    "### **6035 : [기초-산술연산] 실수 2개 입력받아 곱 계산하기(설명)(py)**"
   ]
  },
  {
   "cell_type": "markdown",
   "id": "d8056ee3",
   "metadata": {},
   "source": [
    "실수 2개(f1, f2)를 입력받아 곱을 출력하는 프로그램을 작성해보자.\n",
    "<br>2개의 실수가 공백으로 구분되어 입력된다."
   ]
  },
  {
   "cell_type": "code",
   "execution_count": 11,
   "id": "c899fde7",
   "metadata": {},
   "outputs": [
    {
     "name": "stdout",
     "output_type": "stream",
     "text": [
      "0.5 2.0\n",
      "1.0\n"
     ]
    }
   ],
   "source": [
    "a, b = map(float, input().split())\n",
    "print(a * b)"
   ]
  },
  {
   "cell_type": "markdown",
   "id": "c7db4cde",
   "metadata": {},
   "source": [
    "### **6036 : [기초-산술연산] 단어 여러 번 출력하기(설명)(py)**"
   ]
  },
  {
   "cell_type": "markdown",
   "id": "79fa0aab",
   "metadata": {},
   "source": [
    "단어와 반복 횟수를 입력받아 여러 번 출력해보자.\n",
    "<br>단어와 반복 횟수가 공백으로 구분되어 입력된다."
   ]
  },
  {
   "cell_type": "code",
   "execution_count": 12,
   "id": "cd03f85e",
   "metadata": {},
   "outputs": [
    {
     "name": "stdout",
     "output_type": "stream",
     "text": [
      "love 3\n",
      "lovelovelove\n"
     ]
    }
   ],
   "source": [
    "w, n = input().split()\n",
    "print(w * int(n))"
   ]
  },
  {
   "cell_type": "markdown",
   "id": "e95d470c",
   "metadata": {},
   "source": [
    "### **6037 : [기초-산술연산] 문장 여러 번 출력하기(설명)(py)**"
   ]
  },
  {
   "cell_type": "markdown",
   "id": "3e9296d2",
   "metadata": {},
   "source": [
    "반복 횟수와 문장을 입력받아 여러 번 출력해보자.\n",
    "<br>반복 횟수와 문장이 줄을 바꿔 입력된다."
   ]
  },
  {
   "cell_type": "code",
   "execution_count": 13,
   "id": "8310a330",
   "metadata": {},
   "outputs": [
    {
     "name": "stdout",
     "output_type": "stream",
     "text": [
      "3\n",
      "I love pengsoo\n",
      "I love pengsooI love pengsooI love pengsoo\n"
     ]
    }
   ],
   "source": [
    "n = int(input())\n",
    "w = input()\n",
    "print(n * w)"
   ]
  },
  {
   "cell_type": "markdown",
   "id": "5121cad2",
   "metadata": {},
   "source": [
    "### **6038 : [기초-산술연산] 정수 2개 입력받아 거듭제곱 계산하기(설명)(py)**"
   ]
  },
  {
   "cell_type": "markdown",
   "id": "7a9ad336",
   "metadata": {},
   "source": [
    "정수 2개(a, b)를 입력받아 a를 b번 곱한 거듭제곱을 출력하는 프로그램을 작성해보자.\n",
    "<br>2개의 정수(a, b)가 공백으로 구분되어 입력된다."
   ]
  },
  {
   "cell_type": "code",
   "execution_count": 14,
   "id": "484be9fa",
   "metadata": {},
   "outputs": [
    {
     "name": "stdout",
     "output_type": "stream",
     "text": [
      "2 10\n",
      "1024\n"
     ]
    }
   ],
   "source": [
    "a, b = map(int, input().split())\n",
    "print(a ** b)"
   ]
  },
  {
   "cell_type": "markdown",
   "id": "3d0835a2",
   "metadata": {},
   "source": [
    "### **6039 : [기초-산술연산] 실수 2개 입력받아 거듭제곱 계산하기(py)**"
   ]
  },
  {
   "cell_type": "markdown",
   "id": "fc7e8400",
   "metadata": {},
   "source": [
    "실수 2개(f1, f2)를 입력받아 f1을 f2번 거듭제곱한 값을 출력하는 프로그램을 작성해보자.\n",
    "<br>2개의 실수(f1, f2)가 공백으로 구분되어 입력된다."
   ]
  },
  {
   "cell_type": "code",
   "execution_count": 15,
   "id": "c8671253",
   "metadata": {},
   "outputs": [
    {
     "name": "stdout",
     "output_type": "stream",
     "text": [
      "4.0 2.0\n",
      "16.0\n"
     ]
    }
   ],
   "source": [
    "f1, f2 = map(float, input().split())\n",
    "print(f1 ** f2)"
   ]
  },
  {
   "cell_type": "markdown",
   "id": "6c9866d0",
   "metadata": {},
   "source": [
    "### **6040 : [기초-산술연산] 정수 2개 입력받아 나눈 몫 계산하기(설명)(py)**"
   ]
  },
  {
   "cell_type": "markdown",
   "id": "65e70042",
   "metadata": {},
   "source": [
    "정수 2개(a, b) 를 입력받아 a를 b로 나눈 몫을 출력해보자.\n",
    "<br>2개의 정수(a, b)가 공백으로 구분되어 입력된다."
   ]
  },
  {
   "cell_type": "code",
   "execution_count": 16,
   "id": "424b6bc6",
   "metadata": {},
   "outputs": [
    {
     "name": "stdout",
     "output_type": "stream",
     "text": [
      "10 3\n",
      "3\n"
     ]
    }
   ],
   "source": [
    "a, b = map(int, input().split())\n",
    "print(a // b)"
   ]
  },
  {
   "cell_type": "markdown",
   "id": "27f40f0d",
   "metadata": {},
   "source": [
    "### **6041 : [기초-산술연산] 정수 2개 입력받아 나눈 나머지 계산하기(설명)(py)**"
   ]
  },
  {
   "cell_type": "markdown",
   "id": "530a1487",
   "metadata": {},
   "source": [
    "정수 2개(a, b) 를 입력받아 a를 b로 나눈 나머지를 출력해보자.\n",
    "<br>2개의 정수(a, b)가 공백으로 구분되어 입력된다."
   ]
  },
  {
   "cell_type": "code",
   "execution_count": 17,
   "id": "a858ea7e",
   "metadata": {},
   "outputs": [
    {
     "name": "stdout",
     "output_type": "stream",
     "text": [
      "10 3\n",
      "1\n"
     ]
    }
   ],
   "source": [
    "a, b = map(int, input().split())\n",
    "print(a % b)"
   ]
  }
 ],
 "metadata": {
  "kernelspec": {
   "display_name": "Python 3 (ipykernel)",
   "language": "python",
   "name": "python3"
  },
  "language_info": {
   "codemirror_mode": {
    "name": "ipython",
    "version": 3
   },
   "file_extension": ".py",
   "mimetype": "text/x-python",
   "name": "python",
   "nbconvert_exporter": "python",
   "pygments_lexer": "ipython3",
   "version": "3.9.7"
  }
 },
 "nbformat": 4,
 "nbformat_minor": 5
}
