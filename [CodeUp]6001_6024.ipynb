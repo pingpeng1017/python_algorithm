{
 "cells": [
  {
   "cell_type": "markdown",
   "id": "523f7427",
   "metadata": {},
   "source": [
    "### **6001 : [기초-출력] 출력하기01(설명)(py)**"
   ]
  },
  {
   "cell_type": "markdown",
   "id": "caa4e5c9",
   "metadata": {},
   "source": [
    "python 언어에서 가장 기본적인 명령이 출력문이다.\n",
    "<br>print( )를 이용해 다음 단어를 출력하시오.\n",
    "<br>Hello"
   ]
  },
  {
   "cell_type": "code",
   "execution_count": null,
   "id": "60836bb1",
   "metadata": {},
   "outputs": [],
   "source": [
    "print(\"Hello\")"
   ]
  }
 ],
 "metadata": {
  "kernelspec": {
   "display_name": "Python 3 (ipykernel)",
   "language": "python",
   "name": "python3"
  },
  "language_info": {
   "codemirror_mode": {
    "name": "ipython",
    "version": 3
   },
   "file_extension": ".py",
   "mimetype": "text/x-python",
   "name": "python",
   "nbconvert_exporter": "python",
   "pygments_lexer": "ipython3",
   "version": "3.9.7"
  }
 },
 "nbformat": 4,
 "nbformat_minor": 5
}
