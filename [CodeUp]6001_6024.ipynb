{
 "cells": [
  {
   "cell_type": "markdown",
   "id": "13694bf0",
   "metadata": {},
   "source": [
    "### **6001 : [기초-출력] 출력하기01(설명)(py)**"
   ]
  },
  {
   "cell_type": "markdown",
   "id": "3c6c785a",
   "metadata": {},
   "source": [
    "python 언어에서 가장 기본적인 명령이 출력문이다.\n",
    "<br>print( )를 이용해 다음 단어를 출력하시오.\n",
    "\n",
    "<br>Hello"
   ]
  },
  {
   "cell_type": "code",
   "execution_count": 1,
   "id": "1b25e319",
   "metadata": {},
   "outputs": [
    {
     "name": "stdout",
     "output_type": "stream",
     "text": [
      "Hello\n"
     ]
    }
   ],
   "source": [
    "print(\"Hello\")"
   ]
  },
  {
   "cell_type": "markdown",
   "id": "96493b66",
   "metadata": {},
   "source": [
    "### **6002 : [기초-출력] 출력하기02(설명)(py)**"
   ]
  },
  {
   "cell_type": "markdown",
   "id": "36fe481a",
   "metadata": {},
   "source": [
    "이번에는 공백( )을 포함한 문장을 출력한다.\n",
    "<br>다음 문장을 출력해보자.\n",
    "\n",
    "<br>Hello World\n",
    "<br>(대소문자에 주의한다.)"
   ]
  },
  {
   "cell_type": "code",
   "execution_count": 2,
   "id": "7000c9ce",
   "metadata": {},
   "outputs": [
    {
     "name": "stdout",
     "output_type": "stream",
     "text": [
      "Hello World\n"
     ]
    }
   ],
   "source": [
    "print(\"Hello World\")"
   ]
  },
  {
   "cell_type": "markdown",
   "id": "6d3f8515",
   "metadata": {},
   "source": [
    "### **6003 : [기초-출력] 출력하기03(설명)(py)**"
   ]
  },
  {
   "cell_type": "markdown",
   "id": "89784707",
   "metadata": {},
   "source": [
    "이번에는 줄을 바꿔 출력하는 출력문을 연습해보자.\n",
    "<br>다음과 같이 줄을 바꿔 출력해야 한다.\n",
    "\n",
    "<br>Hello\n",
    "<br>World\n",
    "<br>(두 줄에 걸쳐 줄을 바꿔 출력)"
   ]
  },
  {
   "cell_type": "code",
   "execution_count": 3,
   "id": "09806a1b",
   "metadata": {},
   "outputs": [
    {
     "name": "stdout",
     "output_type": "stream",
     "text": [
      "Hello\n",
      "World\n"
     ]
    }
   ],
   "source": [
    "print(\"Hello\") \n",
    "print(\"World\")"
   ]
  },
  {
   "cell_type": "markdown",
   "id": "03571e76",
   "metadata": {},
   "source": [
    "### **6004 : [기초-출력] 출력하기04(설명)(py)**"
   ]
  },
  {
   "cell_type": "markdown",
   "id": "658a1e3b",
   "metadata": {},
   "source": [
    "이번에는 작은 따옴표(')(single quotation mark)가 들어있는 출력문 연습을 해보자.\n",
    "<br>다음 문장을 출력하시오.\n",
    "\n",
    "<br>'Hello'"
   ]
  },
  {
   "cell_type": "code",
   "execution_count": 4,
   "id": "40c75d94",
   "metadata": {},
   "outputs": [
    {
     "name": "stdout",
     "output_type": "stream",
     "text": [
      "'Hello'\n"
     ]
    }
   ],
   "source": [
    "print(\"'Hello'\")"
   ]
  },
  {
   "cell_type": "markdown",
   "id": "1663e1ae",
   "metadata": {},
   "source": [
    "### **6005 : [기초-출력] 출력하기05(설명)(py)**"
   ]
  },
  {
   "cell_type": "markdown",
   "id": "53b8ef54",
   "metadata": {},
   "source": [
    "이번에는 큰따옴표(\")(double quotation mark)가 포함된 출력문을 연습해보자.\n",
    "<br>다음 문장을 출력하시오.\n",
    "\n",
    "<br>\"Hello World\"\n",
    "<br>(단, 큰따옴표도 함께 출력한다.)"
   ]
  },
  {
   "cell_type": "code",
   "execution_count": 5,
   "id": "599c7225",
   "metadata": {},
   "outputs": [
    {
     "name": "stdout",
     "output_type": "stream",
     "text": [
      "\"Hello World\"\n"
     ]
    }
   ],
   "source": [
    "print('\"Hello World\"')"
   ]
  },
  {
   "cell_type": "markdown",
   "id": "24139caf",
   "metadata": {},
   "source": [
    "### **6006 : [기초-출력] 출력하기06(py)**"
   ]
  },
  {
   "cell_type": "markdown",
   "id": "0aefce8e",
   "metadata": {},
   "source": [
    "이번에는 특수문자 출력에 도전하자!!\n",
    "<br>다음 문장을 출력하시오.\n",
    "\n",
    "<br>\"!@#$%^&*()'\n",
    "<br>(단, 큰따옴표와 작은따옴표도 함께 출력한다.)"
   ]
  },
  {
   "cell_type": "code",
   "execution_count": 6,
   "id": "f4711774",
   "metadata": {},
   "outputs": [
    {
     "name": "stdout",
     "output_type": "stream",
     "text": [
      "\"!@#$%^&*()'\n"
     ]
    }
   ],
   "source": [
    "print(\"\\\"!@#$%^&*()\\'\")"
   ]
  },
  {
   "cell_type": "markdown",
   "id": "16b5c0cd",
   "metadata": {},
   "source": [
    "### **6007 : [기초-출력] 출력하기07(py)**"
   ]
  },
  {
   "cell_type": "markdown",
   "id": "c44825e1",
   "metadata": {},
   "source": [
    "윈도우 운영체제의 파일 경로를 출력하는 연습을 해보자.\n",
    "<br>파일 경로에는 특수문자들이 포함된다.\n",
    "<br>다음 경로를 출력하시오.\n",
    "\n",
    "<br>\"C:\\Download\\'hello'.py\"\n",
    "<br>(단, 따옴표도 함께 출력한다.)"
   ]
  },
  {
   "cell_type": "code",
   "execution_count": 7,
   "id": "ebf56d41",
   "metadata": {},
   "outputs": [
    {
     "name": "stdout",
     "output_type": "stream",
     "text": [
      "\"C:\\Download\\'hello'.py\"\n"
     ]
    }
   ],
   "source": [
    "print(\"\\\"C:\\Download\\\\'hello'.py\\\"\")"
   ]
  },
  {
   "cell_type": "markdown",
   "id": "473daefc",
   "metadata": {},
   "source": [
    "### **6008 : [기초-출력] 출력하기08(py)**"
   ]
  },
  {
   "cell_type": "markdown",
   "id": "f20a1a1f",
   "metadata": {},
   "source": [
    "출력문 연습의 마지막 문제이다.\n",
    "이번에는 다음과 같은 python프로그램의 소스코드를 출력해보자.\n",
    "\n",
    "<br>print(\"Hello\\nWorld\")\n",
    "<br>위 코드를 정확히 그대로 출력하시오.(공백문자 주의)"
   ]
  },
  {
   "cell_type": "code",
   "execution_count": 8,
   "id": "04df8ee6",
   "metadata": {},
   "outputs": [
    {
     "name": "stdout",
     "output_type": "stream",
     "text": [
      "print(\"Hello\\nWorld\")\n"
     ]
    }
   ],
   "source": [
    "print(\"print(\\\"Hello\\\\nWorld\\\")\")"
   ]
  },
  {
   "cell_type": "markdown",
   "id": "d8825317",
   "metadata": {},
   "source": [
    "### **6009 : [기초-입출력] 문자 1개 입력받아 그대로 출력하기(설명)(py)**"
   ]
  },
  {
   "cell_type": "markdown",
   "id": "819b959a",
   "metadata": {},
   "source": [
    "문자(character)는 0 ~ 9, a ~ z, A ~ Z, !, @, #, {, [, <, ... 과 같이 길이가 1인 기호라고 할 수 있다.\n",
    "<br>변수에 문자 1개를 저장한 후 변수에 저장되어 있는 문자를 그대로 출력해보자."
   ]
  },
  {
   "cell_type": "code",
   "execution_count": 9,
   "id": "a2a19b40",
   "metadata": {},
   "outputs": [
    {
     "name": "stdout",
     "output_type": "stream",
     "text": [
      "hello\n",
      "hello\n"
     ]
    }
   ],
   "source": [
    "print(input())"
   ]
  },
  {
   "cell_type": "markdown",
   "id": "5de1b0ec",
   "metadata": {},
   "source": [
    "### **6010 : [기초-입출력] 정수 1개 입력받아 int로 변환하여 출력하기(설명)(py)**"
   ]
  },
  {
   "cell_type": "markdown",
   "id": "bf40ccc8",
   "metadata": {},
   "source": [
    "정수(integer)는 양의 정수(1, 2, 3, 4, 5, ...), 음의 정수(-1, -2, -3, -4, -5, ...), 0 과 같이 소숫점 아래에 수가 없는 수라고 할 수 있다.\n",
    "<br>변수에 정수값을 저장한 후 정수로 변환하여 출력해보자."
   ]
  },
  {
   "cell_type": "code",
   "execution_count": 10,
   "id": "f7842c3c",
   "metadata": {},
   "outputs": [
    {
     "name": "stdout",
     "output_type": "stream",
     "text": [
      "12\n",
      "12\n"
     ]
    }
   ],
   "source": [
    "print(int(input()))"
   ]
  },
  {
   "cell_type": "markdown",
   "id": "a52120d2",
   "metadata": {},
   "source": [
    "### **6011 : [기초-입출력] 실수 1개 입력받아 변환하여 출력하기(설명)(py)**"
   ]
  },
  {
   "cell_type": "markdown",
   "id": "5390b75f",
   "metadata": {},
   "source": [
    "숫자(0~9)와 소수점(.)을 사용해 표현한 수를 실수(real number)라고 한다.\n",
    "<br>변수에 실수값을 저장한 후 변수에 저장되어 있는 값을 그대로 출력해보자."
   ]
  },
  {
   "cell_type": "code",
   "execution_count": 11,
   "id": "1d8376bd",
   "metadata": {},
   "outputs": [
    {
     "name": "stdout",
     "output_type": "stream",
     "text": [
      "1.34554\n",
      "1.34554\n"
     ]
    }
   ],
   "source": [
    "print(float(input()))"
   ]
  },
  {
   "cell_type": "markdown",
   "id": "95721fb7",
   "metadata": {},
   "source": [
    "### **6012 : [기초-입출력] 정수 2개 입력받아 그대로 출력하기1(설명)(py)**"
   ]
  },
  {
   "cell_type": "markdown",
   "id": "8f5b8cd6",
   "metadata": {},
   "source": [
    "줄을 바꿔 정수(integer) 2개를 입력받아 줄을 바꿔 출력해보자."
   ]
  },
  {
   "cell_type": "code",
   "execution_count": 12,
   "id": "f24dedd9",
   "metadata": {},
   "outputs": [
    {
     "name": "stdout",
     "output_type": "stream",
     "text": [
      "1\n",
      "2\n",
      "1\n",
      "2\n"
     ]
    }
   ],
   "source": [
    "a = int(input())\n",
    "b = int(input())\n",
    "print(a)\n",
    "print(b)"
   ]
  },
  {
   "cell_type": "markdown",
   "id": "511e4463",
   "metadata": {},
   "source": [
    "### **6013 : [기초-입출력] 문자 2개 입력받아 순서 바꿔 출력하기1(py)**"
   ]
  },
  {
   "cell_type": "markdown",
   "id": "eaa48d34",
   "metadata": {},
   "source": [
    "줄을 바꿔 문자(character) 2개를 입력받고, 순서를 바꿔 한 줄씩 출력해보자."
   ]
  },
  {
   "cell_type": "code",
   "execution_count": 13,
   "id": "3373df75",
   "metadata": {},
   "outputs": [
    {
     "name": "stdout",
     "output_type": "stream",
     "text": [
      "1\n",
      "2\n",
      "2\n",
      "1\n"
     ]
    }
   ],
   "source": [
    "a = input()\n",
    "b = input()\n",
    "print(b)\n",
    "print(a)"
   ]
  },
  {
   "cell_type": "markdown",
   "id": "f2220a2f",
   "metadata": {},
   "source": [
    "### **6014 : [기초-입출력] 실수 1개 입력받아 3번 출력하기(py)**"
   ]
  },
  {
   "cell_type": "markdown",
   "id": "99012030",
   "metadata": {},
   "source": [
    "실수(real number) 1개를 입력받아 줄을 바꿔 3번 출력해보자."
   ]
  },
  {
   "cell_type": "code",
   "execution_count": 14,
   "id": "d806ab5a",
   "metadata": {},
   "outputs": [
    {
     "name": "stdout",
     "output_type": "stream",
     "text": [
      "0.33\n",
      "0.33\n",
      "0.33\n",
      "0.33\n",
      "\n"
     ]
    }
   ],
   "source": [
    "a = input()\n",
    "print((str(a) + \"\\n\") * 3)"
   ]
  },
  {
   "cell_type": "markdown",
   "id": "19c12711",
   "metadata": {},
   "source": [
    "### **6015 : [기초-입출력] 정수 2개 입력받아 그대로 출력하기2(설명)(py)**"
   ]
  },
  {
   "cell_type": "markdown",
   "id": "92c35812",
   "metadata": {},
   "source": [
    "공백을 두고 입력된정수(integer) 2개를 입력받아 줄을 바꿔 출력해보자."
   ]
  },
  {
   "cell_type": "code",
   "execution_count": 15,
   "id": "2b021a28",
   "metadata": {},
   "outputs": [
    {
     "name": "stdout",
     "output_type": "stream",
     "text": [
      "12 43\n",
      "12\n",
      "43\n"
     ]
    }
   ],
   "source": [
    "a, b = input().split()\n",
    "print(a)\n",
    "print(b)"
   ]
  },
  {
   "cell_type": "markdown",
   "id": "91fb382a",
   "metadata": {},
   "source": [
    "### **6016 : [기초-입출력] 문자 2개 입력받아 순서 바꿔 출력하기2(설명)(py)**"
   ]
  },
  {
   "cell_type": "markdown",
   "id": "47faeab0",
   "metadata": {},
   "source": [
    "공백을 두고 문자(character) 2개를 입력받아 순서를 바꿔 출력해보자."
   ]
  },
  {
   "cell_type": "code",
   "execution_count": 16,
   "id": "3ae74005",
   "metadata": {},
   "outputs": [
    {
     "name": "stdout",
     "output_type": "stream",
     "text": [
      "hello world\n",
      "world hello\n"
     ]
    }
   ],
   "source": [
    "a, b = input().split()\n",
    "print(b, a)"
   ]
  },
  {
   "cell_type": "markdown",
   "id": "3823b049",
   "metadata": {},
   "source": [
    "### **6017 : [기초-입출력] 문장 1개 입력받아 3번 출력하기(설명)(py)**"
   ]
  },
  {
   "cell_type": "markdown",
   "id": "5c1b5487",
   "metadata": {},
   "source": [
    "정수(integer), 실수, 문자(character), 문자열(string) 등 1개만 입력받아 한 줄로 3번 출력해보자."
   ]
  },
  {
   "cell_type": "code",
   "execution_count": 17,
   "id": "1dc81d9a",
   "metadata": {},
   "outputs": [
    {
     "name": "stdout",
     "output_type": "stream",
     "text": [
      "hello world\n",
      "hello world hello world hello world \n"
     ]
    }
   ],
   "source": [
    "a = input()\n",
    "print((a + \" \") * 3)"
   ]
  },
  {
   "cell_type": "code",
   "execution_count": 18,
   "id": "5ec313f7",
   "metadata": {},
   "outputs": [
    {
     "name": "stdout",
     "output_type": "stream",
     "text": [
      "hi\n",
      "hi hi hi\n"
     ]
    }
   ],
   "source": [
    "a = input()\n",
    "print(a, a, a)"
   ]
  },
  {
   "cell_type": "markdown",
   "id": "33ce7c8a",
   "metadata": {},
   "source": [
    "### **6018 : [기초-입출력] 시간 입력받아 그대로 출력하기(설명)(py)**"
   ]
  },
  {
   "cell_type": "markdown",
   "id": "b41be0bf",
   "metadata": {},
   "source": [
    "24시간 시:분 형식으로 시간이 입력될 때, 그대로 출력하는 연습을 해보자."
   ]
  },
  {
   "cell_type": "code",
   "execution_count": 19,
   "id": "e3820ab8",
   "metadata": {},
   "outputs": [
    {
     "name": "stdout",
     "output_type": "stream",
     "text": [
      "12:13\n",
      "12:13\n"
     ]
    }
   ],
   "source": [
    "a, b = input().split(':')\n",
    "print(a, b, sep=':')"
   ]
  },
  {
   "cell_type": "markdown",
   "id": "aa837840",
   "metadata": {},
   "source": [
    "### **6019 : [기초-입출력] 연월일 입력받아 순서 바꿔 출력하기(py)**"
   ]
  },
  {
   "cell_type": "markdown",
   "id": "0cf5fc08",
   "metadata": {},
   "source": [
    "\"연도.월.일\"을 입력받아 \"일-월-연도\" 순서로 바꿔 출력해보자."
   ]
  },
  {
   "cell_type": "code",
   "execution_count": 20,
   "id": "6e4d5ebb",
   "metadata": {},
   "outputs": [
    {
     "name": "stdout",
     "output_type": "stream",
     "text": [
      "2023.04.03\n",
      "03-04-2023\n"
     ]
    }
   ],
   "source": [
    "y, m, d = input().split('.')\n",
    "print(d, m, y, sep='-')"
   ]
  },
  {
   "cell_type": "markdown",
   "id": "e85d7e2f",
   "metadata": {},
   "source": [
    "### **6020 : [기초-입출력] 주민번호 입력받아 형태 바꿔 출력하기(py)**"
   ]
  },
  {
   "cell_type": "markdown",
   "id": "6fbd113a",
   "metadata": {},
   "source": [
    "주민번호는 다음과 같이 구성된다.\n",
    "<br>XXXXXX-XXXXXXX\n",
    "\n",
    "<br>왼쪽 6자리는 생년월일(YYMMDD)이고, 오른쪽 7자리는 성별,출생지역,확인코드로 구성되어있다.\n",
    "<br>주민번호를 입력받아 형태를 바꿔 출력해보자."
   ]
  },
  {
   "cell_type": "code",
   "execution_count": 21,
   "id": "1e86d569",
   "metadata": {},
   "outputs": [
    {
     "name": "stdout",
     "output_type": "stream",
     "text": [
      "123456-1236548\n",
      "1234561236548\n"
     ]
    }
   ],
   "source": [
    "a, b = input().split('-')\n",
    "print(a, b, sep='')"
   ]
  },
  {
   "cell_type": "markdown",
   "id": "1ec11410",
   "metadata": {},
   "source": [
    "### **6021 : [기초-입출력] 단어 1개 입력받아 나누어 출력하기(설명)(py)**"
   ]
  },
  {
   "cell_type": "markdown",
   "id": "859074f2",
   "metadata": {},
   "source": [
    "알파벳과 숫자로 이루어진 단어 1개가 입력된다.\n",
    "<br>입력받은 단어의 각 문자를 한 줄에 한 문자씩 분리해 출력한다."
   ]
  },
  {
   "cell_type": "code",
   "execution_count": 22,
   "id": "309de68a",
   "metadata": {},
   "outputs": [
    {
     "name": "stdout",
     "output_type": "stream",
     "text": [
      "hello\n",
      "h\n",
      "e\n",
      "l\n",
      "l\n",
      "o\n"
     ]
    }
   ],
   "source": [
    "word = input()\n",
    "\n",
    "for i in word:\n",
    "    print(i)"
   ]
  },
  {
   "cell_type": "markdown",
   "id": "4c941741",
   "metadata": {},
   "source": [
    "### **6022 : [기초-입출력] 연월일 입력받아 나누어 출력하기(설명)(py)**"
   ]
  },
  {
   "cell_type": "markdown",
   "id": "bdc8bee3",
   "metadata": {},
   "source": [
    "6자리의 연월일(YYMMDD)을 입력받아 나누어 출력해보자."
   ]
  },
  {
   "cell_type": "code",
   "execution_count": 23,
   "id": "f4b09b6d",
   "metadata": {},
   "outputs": [
    {
     "name": "stdout",
     "output_type": "stream",
     "text": [
      "123456\n",
      "12 34 56\n"
     ]
    }
   ],
   "source": [
    "s = input()\n",
    "print(s[0:2], s[2:4], s[4:6], sep=' ')"
   ]
  },
  {
   "cell_type": "markdown",
   "id": "7fcf3662",
   "metadata": {},
   "source": [
    "### **6023 : [기초-입출력] 시분초 입력받아 분만 출력하기(py)**"
   ]
  },
  {
   "cell_type": "markdown",
   "id": "8f3096a3",
   "metadata": {},
   "source": [
    "시:분:초 형식으로 시간이 입력될 때 분만 출력해보자."
   ]
  },
  {
   "cell_type": "code",
   "execution_count": 24,
   "id": "a0b86dce",
   "metadata": {},
   "outputs": [
    {
     "name": "stdout",
     "output_type": "stream",
     "text": [
      "12:54:47\n",
      "54\n"
     ]
    }
   ],
   "source": [
    "h, m, s = input().split(':')\n",
    "print(m)"
   ]
  },
  {
   "cell_type": "markdown",
   "id": "59a6b6d7",
   "metadata": {},
   "source": [
    "### **6024 : [기초-입출력] 단어 2개 입력받아 이어 붙이기(설명)(py)**"
   ]
  },
  {
   "cell_type": "markdown",
   "id": "0eff0112",
   "metadata": {},
   "source": [
    "알파벳 문자와 숫자로 이루어진 단어 2개를 입력받아 순서대로 붙여 출력하는 프로그램을 작성해보자."
   ]
  },
  {
   "cell_type": "code",
   "execution_count": 25,
   "id": "837ef515",
   "metadata": {},
   "outputs": [
    {
     "name": "stdout",
     "output_type": "stream",
     "text": [
      "hello world\n",
      "helloworld\n"
     ]
    }
   ],
   "source": [
    "a, b = input().split(' ')\n",
    "print(a, b, sep='')"
   ]
  },
  {
   "cell_type": "code",
   "execution_count": 26,
   "id": "264e4587",
   "metadata": {},
   "outputs": [
    {
     "name": "stdout",
     "output_type": "stream",
     "text": [
      "hi everyone\n",
      "hieveryone\n"
     ]
    }
   ],
   "source": [
    "a, b = input().split()\n",
    "s = a + b\n",
    "print(s)"
   ]
  }
 ],
 "metadata": {
  "kernelspec": {
   "display_name": "Python 3 (ipykernel)",
   "language": "python",
   "name": "python3"
  },
  "language_info": {
   "codemirror_mode": {
    "name": "ipython",
    "version": 3
   },
   "file_extension": ".py",
   "mimetype": "text/x-python",
   "name": "python",
   "nbconvert_exporter": "python",
   "pygments_lexer": "ipython3",
   "version": "3.9.7"
  }
 },
 "nbformat": 4,
 "nbformat_minor": 5
}
