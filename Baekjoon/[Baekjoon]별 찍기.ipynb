{
 "cells": [
  {
   "cell_type": "markdown",
   "id": "a0ddd7fd",
   "metadata": {},
   "source": [
    "### **2557번: Hello World**"
   ]
  },
  {
   "cell_type": "markdown",
   "id": "d8431a3d",
   "metadata": {},
   "source": [
    "Hello World!를 출력하시오."
   ]
  },
  {
   "cell_type": "code",
   "execution_count": 1,
   "id": "ce005f83",
   "metadata": {},
   "outputs": [
    {
     "name": "stdout",
     "output_type": "stream",
     "text": [
      "Hello World!\n"
     ]
    }
   ],
   "source": [
    "print('Hello World!')"
   ]
  },
  {
   "cell_type": "markdown",
   "id": "20cfe01b",
   "metadata": {},
   "source": [
    "### **2438번: 별 찍기 - 1**"
   ]
  },
  {
   "cell_type": "markdown",
   "id": "093f3032",
   "metadata": {},
   "source": [
    "첫째 줄에는 별 1개, 둘째 줄에는 별 2개, N번째 줄에는 별 N개를 찍는 문제\n",
    "\n",
    "첫째 줄에 N(1 ≤ N ≤ 100)이 주어진다.\n",
    "\n",
    "첫째 줄부터 N번째 줄까지 차례대로 별을 출력한다."
   ]
  },
  {
   "cell_type": "code",
   "execution_count": 2,
   "id": "25922d9b",
   "metadata": {},
   "outputs": [
    {
     "name": "stdout",
     "output_type": "stream",
     "text": [
      "5\n",
      "*\n",
      "**\n",
      "***\n",
      "****\n",
      "*****\n"
     ]
    }
   ],
   "source": [
    "n = int(input())\n",
    "\n",
    "for i in range(1, n + 1):\n",
    "    print('*' * i)"
   ]
  },
  {
   "cell_type": "markdown",
   "id": "30368b2a",
   "metadata": {},
   "source": [
    "### **2439번: 별 찍기 - 2**"
   ]
  },
  {
   "cell_type": "markdown",
   "id": "ff876b30",
   "metadata": {},
   "source": [
    "첫째 줄에는 별 1개, 둘째 줄에는 별 2개, N번째 줄에는 별 N개를 찍는 문제\n",
    "\n",
    "하지만, 오른쪽을 기준으로 정렬한 별을 출력하시오."
   ]
  },
  {
   "cell_type": "code",
   "execution_count": 3,
   "id": "a4cf7504",
   "metadata": {},
   "outputs": [
    {
     "name": "stdout",
     "output_type": "stream",
     "text": [
      "5\n",
      "    *\n",
      "   **\n",
      "  ***\n",
      " ****\n",
      "*****\n"
     ]
    }
   ],
   "source": [
    "n = int(input())\n",
    "\n",
    "for i in range(1, n + 1):\n",
    "    print(' ' * (n - i) + '*' * i)"
   ]
  },
  {
   "cell_type": "markdown",
   "id": "cc090d50",
   "metadata": {},
   "source": [
    "### **2440번: 별 찍기 - 3**"
   ]
  },
  {
   "cell_type": "markdown",
   "id": "2d3eccff",
   "metadata": {},
   "source": [
    "첫째 줄에는 별 N개, 둘째 줄에는 별 N-1개, ..., N번째 줄에는 별 1개를 찍는 문제"
   ]
  },
  {
   "cell_type": "code",
   "execution_count": 4,
   "id": "e5aa79e7",
   "metadata": {},
   "outputs": [
    {
     "name": "stdout",
     "output_type": "stream",
     "text": [
      "5\n",
      "*****\n",
      "****\n",
      "***\n",
      "**\n",
      "*\n"
     ]
    }
   ],
   "source": [
    "n = int(input())\n",
    "\n",
    "for i in range(n, 0, -1):\n",
    "    print('*' * i)"
   ]
  },
  {
   "cell_type": "markdown",
   "id": "f35d5f33",
   "metadata": {},
   "source": [
    "### **2441번: 별 찍기 - 4**"
   ]
  },
  {
   "cell_type": "markdown",
   "id": "30821ef4",
   "metadata": {},
   "source": [
    "첫째 줄에는 별 N개, 둘째 줄에는 별 N-1개, ..., N번째 줄에는 별 1개를 찍는 문제\n",
    "\n",
    "하지만, 오른쪽을 기준으로 정렬한 별(예제 참고)을 출력하시오."
   ]
  },
  {
   "cell_type": "code",
   "execution_count": 5,
   "id": "7dcb2379",
   "metadata": {},
   "outputs": [
    {
     "name": "stdout",
     "output_type": "stream",
     "text": [
      "5\n",
      "*****\n",
      " ****\n",
      "  ***\n",
      "   **\n",
      "    *\n"
     ]
    }
   ],
   "source": [
    "n = int(input())\n",
    "\n",
    "for i in range(n, 0, -1):\n",
    "    print(' ' * (n - i) + '*' * i)"
   ]
  },
  {
   "cell_type": "markdown",
   "id": "c1c47a27",
   "metadata": {},
   "source": [
    "### **2442번: 별 찍기 - 5**"
   ]
  },
  {
   "cell_type": "markdown",
   "id": "133de309",
   "metadata": {},
   "source": [
    "첫째 줄에는 별 1개, 둘째 줄에는 별 3개, ..., N번째 줄에는 별 2×N-1개를 찍는 문제\n",
    "\n",
    "별은 가운데를 기준으로 대칭이어야 한다."
   ]
  },
  {
   "cell_type": "code",
   "execution_count": 6,
   "id": "8d8e9ea8",
   "metadata": {},
   "outputs": [
    {
     "name": "stdout",
     "output_type": "stream",
     "text": [
      "5\n",
      "    *\n",
      "   ***\n",
      "  *****\n",
      " *******\n",
      "*********\n"
     ]
    }
   ],
   "source": [
    "n = int(input())\n",
    "\n",
    "for i in range(1, n + 1):\n",
    "    print(' ' * (n - i) + '*' * (2 * i - 1))"
   ]
  },
  {
   "cell_type": "markdown",
   "id": "30da2f5d",
   "metadata": {},
   "source": [
    "### **2443번: 별 찍기 - 6**"
   ]
  },
  {
   "cell_type": "markdown",
   "id": "40168be5",
   "metadata": {},
   "source": [
    "첫째 줄에는 별 2×N-1개, 둘째 줄에는 별 2×N-3개, ..., N번째 줄에는 별 1개를 찍는 문제\n",
    "\n",
    "별은 가운데를 기준으로 대칭이어야 한다."
   ]
  },
  {
   "cell_type": "code",
   "execution_count": 7,
   "id": "7b97af22",
   "metadata": {},
   "outputs": [
    {
     "name": "stdout",
     "output_type": "stream",
     "text": [
      "5\n",
      "*********\n",
      " *******\n",
      "  *****\n",
      "   ***\n",
      "    *\n"
     ]
    }
   ],
   "source": [
    "n = int(input())\n",
    "\n",
    "for i in range(n, 0, -1):\n",
    "    print(' ' * (n - i) + '*' * (2 * i - 1))"
   ]
  },
  {
   "cell_type": "markdown",
   "id": "ea1add6d",
   "metadata": {},
   "source": [
    "### **2444번: 별 찍기 - 7**"
   ]
  },
  {
   "attachments": {
    "image.png": {
     "image/png": "[encoded data removed]"
    }
   },
   "cell_type": "markdown",
   "id": "ead4ae76",
   "metadata": {},
   "source": [
    "예제를 보고 규칙을 유추한 뒤에 별을 찍어 보세요.\n",
    "\n",
    "![image.png](attachment:image.png)"
   ]
  },
  {
   "cell_type": "code",
   "execution_count": 8,
   "id": "3ff6df4b",
   "metadata": {},
   "outputs": [
    {
     "name": "stdout",
     "output_type": "stream",
     "text": [
      "5\n",
      "    *\n",
      "   ***\n",
      "  *****\n",
      " *******\n",
      "*********\n",
      " *******\n",
      "  *****\n",
      "   ***\n",
      "    *\n"
     ]
    }
   ],
   "source": [
    "n = int(input())\n",
    "\n",
    "for i in range(1, n + 1):\n",
    "    print(' ' * (n - i) + '*' * (2 * i - 1))\n",
    "\n",
    "for i in range(n - 1, 0, -1):\n",
    "    print(' ' * (n - i) + '*' * (2 * i - 1))"
   ]
  },
  {
   "cell_type": "markdown",
   "id": "32549a61",
   "metadata": {},
   "source": [
    "### **2445번: 별 찍기 - 8**"
   ]
  },
  {
   "attachments": {
    "image.png": {
     "image/png": "[encoded data removed]"
    }
   },
   "cell_type": "markdown",
   "id": "15e7d7c9",
   "metadata": {},
   "source": [
    "예제를 보고 규칙을 유추한 뒤에 별을 찍어 보세요.\n",
    "\n",
    "![image.png](attachment:image.png)"
   ]
  },
  {
   "cell_type": "code",
   "execution_count": 9,
   "id": "3646d41f",
   "metadata": {},
   "outputs": [
    {
     "name": "stdout",
     "output_type": "stream",
     "text": [
      "5\n",
      "*        *\n",
      "**      **\n",
      "***    ***\n",
      "****  ****\n",
      "**********\n",
      "****  ****\n",
      "***    ***\n",
      "**      **\n",
      "*        *\n"
     ]
    }
   ],
   "source": [
    "n = int(input())\n",
    "\n",
    "for i in range(1, n + 1):\n",
    "    print('*' * i + ' ' * (n - i) + ' ' * (n - i) + '*' * i)\n",
    "\n",
    "for i in range(n - 1, 0, -1):\n",
    "    print('*' * i + ' ' * (n - i) + ' ' * (n - i) + '*' * i)"
   ]
  },
  {
   "cell_type": "markdown",
   "id": "57d32a75",
   "metadata": {},
   "source": [
    "### **2446번: 별 찍기 - 9**"
   ]
  },
  {
   "attachments": {
    "image.png": {
     "image/png": "[encoded data removed]"
    }
   },
   "cell_type": "markdown",
   "id": "8ec24778",
   "metadata": {},
   "source": [
    "예제를 보고 규칙을 유추한 뒤에 별을 찍어 보세요.\n",
    "\n",
    "![image.png](attachment:image.png)"
   ]
  },
  {
   "cell_type": "code",
   "execution_count": 10,
   "id": "13b7330e",
   "metadata": {},
   "outputs": [
    {
     "name": "stdout",
     "output_type": "stream",
     "text": [
      "5\n",
      "*********\n",
      " *******\n",
      "  *****\n",
      "   ***\n",
      "    *\n",
      "   ***\n",
      "  *****\n",
      " *******\n",
      "*********\n"
     ]
    }
   ],
   "source": [
    "n = int(input())\n",
    "\n",
    "for i in range(n, 0, -1):\n",
    "    print(' ' * (n - i) + '*' * (2 * i - 1))\n",
    "\n",
    "for i in range(2, n + 1):\n",
    "    print(' ' * (n - i) + '*' * (2 * i - 1))"
   ]
  }
 ],
 "metadata": {
  "kernelspec": {
   "display_name": "Python 3 (ipykernel)",
   "language": "python",
   "name": "python3"
  },
  "language_info": {
   "codemirror_mode": {
    "name": "ipython",
    "version": 3
   },
   "file_extension": ".py",
   "mimetype": "text/x-python",
   "name": "python",
   "nbconvert_exporter": "python",
   "pygments_lexer": "ipython3",
   "version": "3.9.7"
  }
 },
 "nbformat": 4,
 "nbformat_minor": 5
}
