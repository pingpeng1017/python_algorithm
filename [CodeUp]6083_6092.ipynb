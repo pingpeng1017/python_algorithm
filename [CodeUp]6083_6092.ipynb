{
 "cells": [
  {
   "cell_type": "markdown",
   "id": "e30ea32e",
   "metadata": {},
   "source": [
    "### **6083 : [기초-종합] 빛 섞어 색 만들기(설명)(py)**\n",
    "빨강(red), 초록(green), 파랑(blue) 빛을 섞어 여러 가지 다른 색 빛을 만들어 내려고 한다.\n",
    "\n",
    "빨강(r), 초록(g), 파랑(b) 각 빛의 가짓수가 주어질 때,  \n",
    "주어진 rgb 빛들을 섞어 만들 수 있는 모든 경우의 조합(r g b)과 만들 수 있는 색의 가짓 수를 계산해보자.\n",
    "\n",
    "빨녹파(r, g, b) 각 빛의 가짓수가 공백을 두고 입력된다.\n",
    "\n",
    "만들 수 있는 rgb 색의 정보를 오름차순(계단을 올라가는 순, 12345... abcde..., 가나다라마...)으로\n",
    "줄을 바꿔 모두 출력하고, 마지막에 그 개수를 출력한다."
   ]
  },
  {
   "cell_type": "code",
   "execution_count": 1,
   "id": "ed88f81f",
   "metadata": {},
   "outputs": [
    {
     "name": "stdout",
     "output_type": "stream",
     "text": [
      "2 2 2\n",
      "0 0 0\n",
      "0 0 1\n",
      "0 1 0\n",
      "0 1 1\n",
      "1 0 0\n",
      "1 0 1\n",
      "1 1 0\n",
      "1 1 1\n",
      "8\n"
     ]
    }
   ],
   "source": [
    "r, g, b = map(int, input().split())\n",
    "count = 0\n",
    "\n",
    "for i in range(r):\n",
    "    for j in range(g):\n",
    "        for k in range(b):\n",
    "            print(i, j, k)\n",
    "            count += 1\n",
    "            \n",
    "print(count)"
   ]
  },
  {
   "cell_type": "markdown",
   "id": "75c10532",
   "metadata": {},
   "source": [
    "### **6084 : [기초-종합] 소리 파일 저장용량 계산하기(py)**"
   ]
  },
  {
   "cell_type": "markdown",
   "id": "588d8252",
   "metadata": {},
   "source": [
    "소리가 컴퓨터에 저장될 때에는 디지털 데이터화 되어 저장된다.\n",
    "<br>\n",
    "<br>마이크를 통해 1초에 적게는 수십 번, 많게는 수만 번 소리의 강약을 체크하고,\n",
    "<br>한 번씩 체크할 때 마다 그 값을 정수값으로 바꾸어 저장하는 방식으로 소리를 파일로 저장할 수 있다.\n",
    "<br>\n",
    "<br>값을 저장할 때에는 비트를 사용하는 정도에 따라 세세한 녹음 정도를 결정할 수 있고,\n",
    "<br>좌우(스테레오) 채널로 저장하면 2배… 5.1채널이면 6배의 저장공간이 필요하고,\n",
    "<br>녹음 시간이 길면 그 만큼 더 많은 저장공간이 필요하다.\n",
    "<br>\n",
    "<br>1초 동안 마이크로 소리강약을 체크하는 횟수를 h\n",
    "<br>(헤르쯔, Hz 는 1초에 몇 번? 체크하는가를 의미한다.)\n",
    "<br>\n",
    "<br>한 번 체크한 값을 저장할 때 사용하는 비트수를 b\n",
    "<br>(2비트를 사용하면 0 또는 1 두 가지, 16비트를 사용하면 65536가지..)\n",
    "<br>\n",
    "<br>좌우 등 소리를 저장할 트랙 개수인 채널 개수를 c\n",
    "<br>(모노는 1개, 스테레오는 2개의 트랙으로 저장함을 의미한다.)\n",
    "<br>\n",
    "<br>녹음할 시간(초) s가 주어질 때,\n",
    "<br>필요한 저장 용량을 계산하는 프로그램을 작성해보자.\n",
    "<br>\n",
    "<br>실제로, 일반적인 CD 음질(44.1KHz, 16bit, 스테레오)로 1초 동안 저장하려면\n",
    "<br>44100 * 16 * 2 * 1 bit의 저장공간이 필요한데,\n",
    "<br>44100 * 16 * 2 * 1 / 8 / 1024 / 1024 로 계산하면 약 0.168 MB 정도가 필요하다.\n",
    "<br>\n",
    "<br>이렇게 녹음하는 방식을 PCM(Pulse Code Modulation) 방법이라고 하는데,\n",
    "<br>압축하지 않은 순수한(raw) 소리 데이터 파일은 대표적으로 *.wav 가 있다.\n",
    "<br>\n",
    "<br>h, b, c, s 가 공백을 두고 입력된다.\n",
    "<br>h는 48,000이하, b는 32이하(단, 8의배수), c는 5이하, s는 6,000이하의 자연수이다.\n",
    "<br>\n",
    "<br>필요한 저장 공간을 MB 단위로 바꾸어 출력한다.\n",
    "<br>단, 소수점 첫째 자리까지의 정확도로 출력하고 MB를 공백을 두고 출력한다."
   ]
  },
  {
   "cell_type": "code",
   "execution_count": 2,
   "id": "d5f9c1bb",
   "metadata": {},
   "outputs": [
    {
     "name": "stdout",
     "output_type": "stream",
     "text": [
      "44100 16 2 10\n",
      "1.7 MB\n"
     ]
    }
   ],
   "source": [
    "h, b, c, s = map(int, input().split())\n",
    "\n",
    "storage = h * b * c * s / 8 / 1024 / 1024\n",
    "print(round(storage, 1), 'MB')"
   ]
  },
  {
   "cell_type": "markdown",
   "id": "8abc7b71",
   "metadata": {},
   "source": [
    "### **6085 : [기초-종합] 그림 파일 저장용량 계산하기(py)**"
   ]
  },
  {
   "cell_type": "markdown",
   "id": "946e3555",
   "metadata": {},
   "source": [
    "<br>이미지가 컴퓨터에 저장될 때에도 디지털 데이터화 되어 저장된다.\n",
    "<br>\n",
    "<br>가장 기본적인 방법으로는 그림을 구성하는 한 점(pixel, 픽셀)의 색상을\n",
    "<br>빨강(r), 초록(g), 파랑(b)의 3가지의 빛의 세기 값으로 따로 변환하여 저장하는 것인데,\n",
    "<br>\n",
    "<br>예를 들어 r, g, b 각 색에 대해서 8비트(0-255, 256가지 가능)씩을 사용한다고 하면,\n",
    "<br>\n",
    "<br>한 점의 색상은 3가지 r, g, b의 8비트+8비트+8비트로 총 24비트로 표현해서\n",
    "<br>총 2^24 가지의 서로 다른 빛의 색깔을 사용할 수 있는 것이다.\n",
    "<br>\n",
    "<br>그렇게 저장하는 점을 모아 하나의 큰 이미지를 저장할 수 있게 되는데,\n",
    "<br>1024 * 768 사이즈에 각 점에 대해 24비트로 저장하면 그 이미지를 저장하기 위한\n",
    "<br>저장 용량을 계산할 수 있다.\n",
    "<br>\n",
    "<br>이렇게 이미지의 원래(raw) 데이터를 압축하지 않고 그대로 저장하는 대표적인 이미지 파일이\n",
    "<br>*.bmp 파일이며, 비트로 그림을 구성한다고 하여 비트맵 방식 또는 래스터 방식이라고 한다.\n",
    "<br>\n",
    "<br>이미지의 가로 해상도 w, 세로 해상도 h, 한 픽셀을 저장하기 위한 비트 b 가 주어질 때,\n",
    "<br>압축하지 않고 저장하기 위해 필요한 저장 용량을 계산하는 프로그램을 작성해 보자.\n",
    "<br>\n",
    "<br>w, h, b 가 공백을 두고 입력된다.\n",
    "<br>단, w, h는 모두 정수이고 1~1024 이다. b는 40이하의 4의 배수이다.\n",
    "<br>\n",
    "<br>필요한 저장 공간을 MB 단위로 바꾸어 출력한다.\n",
    "<br>단, 소수점 셋째 자리에서 반올림하여 둘째 자리까지 출력한다."
   ]
  },
  {
   "cell_type": "code",
   "execution_count": 3,
   "id": "17732b68",
   "metadata": {},
   "outputs": [
    {
     "name": "stdout",
     "output_type": "stream",
     "text": [
      "1024 768 24\n",
      "2.25 MB\n"
     ]
    }
   ],
   "source": [
    "w, h, b = map(int, input().split())\n",
    "\n",
    "storage = w * h * b / 8 / 1024 / 1024\n",
    "print(f'{storage:.2f} MB')"
   ]
  },
  {
   "cell_type": "markdown",
   "id": "e8ab452f",
   "metadata": {},
   "source": [
    "### **6086 : [기초-종합] 거기까지! 이제 그만~(설명)(py)**"
   ]
  },
  {
   "cell_type": "markdown",
   "id": "49088dfd",
   "metadata": {},
   "source": [
    "1, 2, 3 ... 을 순서대로 계속 더해 합을 만드는데,\n",
    "<br>그 합이 입력한 정수보다 작을 동안만 계속 더하는 프로그램을 작성해보자.\n",
    "<br>\n",
    "<br>즉, 1부터 n까지 정수를 하나씩 더해 합을 만드는데,\n",
    "<br>어디까지 더해야 입력한 수보다 같거나 커지는지 알아보고자 하는 문제이다.\n",
    "<br>\n",
    "<br>하지만, 이번에는 그 때 까지의 합을 출력해야 한다.\n",
    "<br>\n",
    "<br>1, 2, 3, 4, 5 ... 순서대로 계속 더해가다가, 그 합이 입력된 정수보다 커지거나 같아지는 경우,\n",
    "<br>그때까지의 합을 출력한다."
   ]
  },
  {
   "cell_type": "code",
   "execution_count": 4,
   "id": "3d91aa95",
   "metadata": {},
   "outputs": [
    {
     "name": "stdout",
     "output_type": "stream",
     "text": [
      "57\n",
      "66\n"
     ]
    }
   ],
   "source": [
    "n = int(input())\n",
    "s = 0\n",
    "c = 1\n",
    "\n",
    "while True:\n",
    "    s += c\n",
    "    c += 1\n",
    "    if s >= n:\n",
    "        break\n",
    "        \n",
    "print(s)"
   ]
  },
  {
   "cell_type": "markdown",
   "id": "edb73ad7",
   "metadata": {},
   "source": [
    "### **6087 : [기초-종합] 3의 배수는 통과(설명)(py)**"
   ]
  },
  {
   "cell_type": "markdown",
   "id": "17cd463c",
   "metadata": {},
   "source": [
    "1부터 입력한 정수까지 1씩 증가시켜 출력하는 프로그램을 작성하되,\n",
    "<br>3의 배수인 경우는 출력하지 않도록 만들어보자.\n",
    "<br>\n",
    "<br>1부터 입력한 정수보다 작거나 같을 때까지 1씩 증가시켜 출력하되,\n",
    "<br>3의 배수는 출력하지 않는다."
   ]
  },
  {
   "cell_type": "code",
   "execution_count": 5,
   "id": "235b1164",
   "metadata": {},
   "outputs": [
    {
     "name": "stdout",
     "output_type": "stream",
     "text": [
      "10\n",
      "1 2 4 5 7 8 10 "
     ]
    }
   ],
   "source": [
    "n = int(input())\n",
    "\n",
    "for i in range(1, n + 1):\n",
    "    if i % 3 == 0:\n",
    "        continue\n",
    "    print(i, end = ' ')"
   ]
  },
  {
   "cell_type": "markdown",
   "id": "aa6320d9",
   "metadata": {},
   "source": [
    "### **6088 : [기초-종합] 수 나열하기1(py)**"
   ]
  },
  {
   "cell_type": "markdown",
   "id": "e8a1a851",
   "metadata": {},
   "source": [
    "어떤 규칙에 따라 수를 순서대로 나열한 것을 수열(sequences)이라고 한다.\n",
    "<br>\n",
    "<br>예를 들어\n",
    "<br>1 4 7 10 13 16 19 22 25 ... 은\n",
    "<br>1부터 시작해 이전에 만든 수에 3을 더해 다음 수를 만든 수열이다.\n",
    "<br>이러한 것을 수학에서는 앞뒤 수들의 차이가 같다고 하여 등차(차이가 같다의 한문 말) 수열이라고 한다.\n",
    "<br>\n",
    "<br>수열을 알게 된 영일이는 갑자기 궁금해졌다.\n",
    "<br>\"그럼.... 123번째 나오는 수는 뭘까?\"\n",
    "<br>영일이는 프로그램을 만들어 더 큰 수도 자동으로 계산하고 싶어졌다.\n",
    "<br>\n",
    "<br>시작 값(a), 등차(d), 몇 번째인지를 나타내는 정수(n)가 입력될 때\n",
    "<br>n번째 수를 출력하는 프로그램을 만들어보자.\n",
    "<br>\n",
    "<br>시작 값(a), 등차의 값(d), 몇 번째 수 인지를 의미하는 정수(n)가 공백을 두고 입력된다.(모두 0 ~ 100)"
   ]
  },
  {
   "cell_type": "code",
   "execution_count": 6,
   "id": "23cc596d",
   "metadata": {},
   "outputs": [
    {
     "name": "stdout",
     "output_type": "stream",
     "text": [
      "1 3 5\n",
      "13\n"
     ]
    }
   ],
   "source": [
    "a, d, n = map(int, input().split())\n",
    "print(a + (n - 1) * d)"
   ]
  },
  {
   "cell_type": "code",
   "execution_count": 7,
   "id": "107f1659",
   "metadata": {},
   "outputs": [
    {
     "name": "stdout",
     "output_type": "stream",
     "text": [
      "1 3 5\n",
      "13\n"
     ]
    }
   ],
   "source": [
    "a, d, n = map(int, input().split())\n",
    "\n",
    "s = a\n",
    "for i in range(2, n + 1):\n",
    "   s += d\n",
    "\n",
    "print(s)"
   ]
  },
  {
   "cell_type": "markdown",
   "id": "92752927",
   "metadata": {},
   "source": [
    "### **6089 : [기초-종합] 수 나열하기2(py)**"
   ]
  },
  {
   "cell_type": "markdown",
   "id": "02f4a972",
   "metadata": {},
   "source": [
    "어떤 규칙에 따라 수를 순서대로 나열한 것을 수열(sequences)이라고 한다.\n",
    "<br>\n",
    "<br>예를 들어\n",
    "<br>2 6 18 54 162 486 ... 은\n",
    "<br>2부터 시작해 이전에 만든 수에 3을 곱해 다음 수를 만든 수열이다.\n",
    "<br>\n",
    "<br>이러한 것을 수학에서는 앞뒤 수들의 비율이 같다고 하여 등비(비율이 같다의 한문 말) 수열이라고 한다.\n",
    "<br>\n",
    "<br>등비 수열을 알게된 영일이는 갑자기 궁금해졌다.\n",
    "<br>\"그럼.... 13번째 나오는 수는 뭘까?\"\n",
    "<br>영일이는 프로그램을 만들어 더 큰 수도 자동으로 계산하고 싶어졌다.\n",
    "<br>\n",
    "<br>시작 값(a), 등비(r), 몇 번째인지를 나타내는 정수(n)가 입력될 때\n",
    "<br>n번째 수를 출력하는 프로그램을 만들어보자.\n",
    "<br>\n",
    "<br>시작 값(a), 등비의 값(r), 몇 번째 인지를 나타내는 정수(n)가 공백을 두고 입력된다.(모두 0 ~ 10)"
   ]
  },
  {
   "cell_type": "code",
   "execution_count": 8,
   "id": "4f1027a0",
   "metadata": {},
   "outputs": [
    {
     "name": "stdout",
     "output_type": "stream",
     "text": [
      "2 3 7\n",
      "1458\n"
     ]
    }
   ],
   "source": [
    "a, r, n = map(int, input().split())\n",
    "print(a * r**(n-1))"
   ]
  },
  {
   "cell_type": "code",
   "execution_count": 9,
   "id": "065733fc",
   "metadata": {},
   "outputs": [
    {
     "name": "stdout",
     "output_type": "stream",
     "text": [
      "2 3 7\n",
      "1458\n"
     ]
    }
   ],
   "source": [
    "a, r, n = map(int, input().split())\n",
    "\n",
    "for i in range(1, n):\n",
    "  a = a * r\n",
    "\n",
    "print(a)"
   ]
  },
  {
   "cell_type": "markdown",
   "id": "9242c06f",
   "metadata": {},
   "source": [
    "### **6090 : [기초-종합] 수 나열하기3(py)**"
   ]
  },
  {
   "cell_type": "markdown",
   "id": "1240cf63",
   "metadata": {},
   "source": [
    "어떤 규칙에 따라 수를 순서대로 나열한 것을 수열(sequences)이라고 한다.\n",
    "<br>\n",
    "<br>예를 들어\n",
    "<br>1 -1 3 -5 11 -21 43 ... 은\n",
    "<br>1부터 시작해 이전에 만든 수에 -2를 곱한 다음 1을 더해 다음 수를 만든 수열이다.\n",
    "<br>\n",
    "<br>이런 이상한 수열을 알게 된 영일이는 또 궁금해졌다.\n",
    "<br>\"그럼.... 13번째 나오는 수는 뭘까?\"\n",
    "<br>\n",
    "<br>영일이는 물론 수학을 아주 잘하지만 이런 문제는 본 적이 거의 없었다...\n",
    "<br>그래서 프로그램을 만들어 더 큰 수도 자동으로 계산하고 싶어졌다.\n",
    "<br>\n",
    "<br>시작 값(a), 곱할 값(m), 더할 값(d), 몇 번째인지를 나타내는 정수(n)가 입력될 때,\n",
    "<br>n번째 수를 출력하는 프로그램을 만들어보자.\n",
    "<br>\n",
    "<br>시작 값(a), 곱할 값(m), 더할 값(d), 몇 번째 인지를 나타내는 정수(n)가 공백을 두고 입력된다.(a, m, d는 -50 ~ +50, n은 10이하의 자연수)"
   ]
  },
  {
   "cell_type": "code",
   "execution_count": 10,
   "id": "7d5a4b52",
   "metadata": {},
   "outputs": [
    {
     "name": "stdout",
     "output_type": "stream",
     "text": [
      "1 -2 1 8\n",
      "-85\n"
     ]
    }
   ],
   "source": [
    "a, m, d, n = map(int, input().split())\n",
    "\n",
    "for i in range(1, n):\n",
    "    a = a * m + d\n",
    "    \n",
    "print(a)"
   ]
  },
  {
   "cell_type": "markdown",
   "id": "fa7aa708",
   "metadata": {},
   "source": [
    "### **6091 : [기초-종합] 함께 문제 푸는 날(설명)(py)**"
   ]
  },
  {
   "cell_type": "markdown",
   "id": "845aa765",
   "metadata": {},
   "source": [
    "온라인 채점시스템에는 초등학생, 중고등학생, 대학생, 대학원생,\n",
    "<br>일반인, 군인, 프로그래머, 탑코더 등 아주 많은 사람들이 들어와 문제를 풀고 있는데,\n",
    "<br>실시간 채점 정보는 메뉴의 채점기록(Judge Status)을 통해 살펴볼 수 있다.\n",
    "<br>\n",
    "<br>자! 여기서...잠깐..\n",
    "<br>같은 날 동시에 가입한 3명의 사람들이 온라인 채점시스템에 들어와 문제를 푸는 날짜가\n",
    "<br>매우 규칙적이라고 할 때, 다시 모두 함께 문제를 풀게 되는 그날은 언제일까?\n",
    "<br>\n",
    "<br>예를 들어 3명이 같은 날 가입/등업하고, 각각 3일마다, 7일마다, 9일마다\n",
    "<br>한 번씩 들어온다면, 처음 가입하고 63일 만에 다시 3명이 함께 문제를 풀게 된다.\n",
    "<br>\n",
    "<br>같은 날 동시에 가입한 인원 3명이 규칙적으로 방문하는 방문 주기가 공백을 두고 입력된다. (단, 입력값은 100이하의 자연수이다.)\n",
    "<br>\n",
    "<br>3명이 다시 모두 함께 방문해 문제를 풀어보는 날(동시 가입/등업 후 며칠 후?)을 출력한다."
   ]
  },
  {
   "cell_type": "code",
   "execution_count": 11,
   "id": "23775790",
   "metadata": {},
   "outputs": [
    {
     "name": "stdout",
     "output_type": "stream",
     "text": [
      "3 7 9\n",
      "63\n"
     ]
    }
   ],
   "source": [
    "a, b, c = map(int, input().split())\n",
    "d = 1\n",
    "\n",
    "while d % a != 0 or d % b != 0 or d % c != 0:\n",
    "  d += 1\n",
    "\n",
    "print(d)"
   ]
  },
  {
   "cell_type": "markdown",
   "id": "f233dc5b",
   "metadata": {},
   "source": [
    "### **6092 : [기초-리스트] 이상한 출석 번호 부르기1(설명)(py)**"
   ]
  },
  {
   "cell_type": "markdown",
   "id": "67e407ab",
   "metadata": {},
   "source": [
    "정보 선생님은 수업을 시작하기 전에 이상한 출석을 부른다.\n",
    "<br>\n",
    "<br>선생님은 출석부를 보고 번호를 부르는데,\n",
    "<br>학생들의 얼굴과 이름을 빨리 익히기 위해 번호를 무작위(랜덤)으로 부른다.\n",
    "<br>\n",
    "<br>그리고 얼굴과 이름이 잘 기억되지 않는 학생들은 번호를 여러 번 불러\n",
    "<br>이름과 얼굴을 빨리 익히려고 하는 것이다.\n",
    "<br>\n",
    "<br>출석 번호를 n번 무작위로 불렀을 때, 각 번호(1 ~ 23)가 불린 횟수를 각각 출력해보자.\n",
    "<br>\n",
    "<br>첫 번째 줄에 출석 번호를 부른 횟수인 정수 n이 입력된다. (1 ~ 10000)\n",
    "<br>두 번째 줄에는 무작위로 부른 n개의 번호(1 ~ 23)가 공백을 두고 순서대로 입력된다.\n",
    "<br>\n",
    "<br>1번부터 번호가 불린 횟수를 순서대로 공백으로 구분하여 한 줄로 출력한다."
   ]
  },
  {
   "cell_type": "code",
   "execution_count": 12,
   "id": "757b3736",
   "metadata": {},
   "outputs": [
    {
     "name": "stdout",
     "output_type": "stream",
     "text": [
      "10\n",
      "1 3 2 2 5 6 7 4 5 9\n",
      "1 2 1 1 2 1 1 0 1 0 0 0 0 0 0 0 0 0 0 0 0 0 0 "
     ]
    }
   ],
   "source": [
    "n = int(input())\n",
    "a = list(map(int, input().split()))\n",
    "count = [0] * 24\n",
    "\n",
    "for i in range(n):\n",
    "    count[a[i]] += 1\n",
    "\n",
    "for i in range(1, 24):\n",
    "    print(count[i], end = ' ')"
   ]
  }
 ],
 "metadata": {
  "kernelspec": {
   "display_name": "Python 3 (ipykernel)",
   "language": "python",
   "name": "python3"
  },
  "language_info": {
   "codemirror_mode": {
    "name": "ipython",
    "version": 3
   },
   "file_extension": ".py",
   "mimetype": "text/x-python",
   "name": "python",
   "nbconvert_exporter": "python",
   "pygments_lexer": "ipython3",
   "version": "3.9.7"
  }
 },
 "nbformat": 4,
 "nbformat_minor": 5
}
