{
 "cells": [
  {
   "cell_type": "markdown",
   "id": "0140e3e0",
   "metadata": {},
   "source": [
    "### **6042 : [기초-값변환] 실수 1개 입력받아 소숫점이하 자리 변환하기(설명)(py)**"
   ]
  },
  {
   "cell_type": "markdown",
   "id": "11c8728a",
   "metadata": {},
   "source": [
    "실수 1개를 입력받아 소숫점 이하 두 번째 자리까지의 정확도로 반올림한 값을 출력해보자."
   ]
  },
  {
   "cell_type": "code",
   "execution_count": 1,
   "id": "baea3e0c",
   "metadata": {},
   "outputs": [
    {
     "name": "stdout",
     "output_type": "stream",
     "text": [
      "3.141592\n",
      "3.14\n"
     ]
    }
   ],
   "source": [
    "a = float(input())\n",
    "print(round(a, 2))"
   ]
  },
  {
   "cell_type": "markdown",
   "id": "9e5f0ec9",
   "metadata": {},
   "source": [
    "### **6043 : [기초-산술연산] 실수 2개 입력받아 나눈 결과 계산하기(py)**"
   ]
  },
  {
   "cell_type": "markdown",
   "id": "d5c2d4bb",
   "metadata": {},
   "source": [
    "실수 2개(f1, f2)를 입력받아 f1 을 f2 로 나눈 값을 출력해보자. 이 때 소숫점 넷째자리에서 반올림하여 무조건 소숫점 셋째 자리까지 출력한다.\n",
    "<br>2개의 실수(f1, f2)가 공백으로 구분되어 입력된다."
   ]
  },
  {
   "cell_type": "code",
   "execution_count": 2,
   "id": "22f36314",
   "metadata": {},
   "outputs": [
    {
     "name": "stdout",
     "output_type": "stream",
     "text": [
      "10.0 3.0\n",
      "3.333\n"
     ]
    }
   ],
   "source": [
    "f1, f2 = map(float, input().split())\n",
    "a = f1 / f2\n",
    "print(\"%0.3f\" %  a)"
   ]
  },
  {
   "cell_type": "markdown",
   "id": "d61e7400",
   "metadata": {},
   "source": [
    "### **6044 : [기초-산술연산] 정수 2개 입력받아 자동 계산하기(py)**"
   ]
  },
  {
   "cell_type": "markdown",
   "id": "af70bc95",
   "metadata": {},
   "source": [
    "정수 2개(a, b)를 입력받아 합, 차, 곱, 몫, 나머지, 나눈 값을 자동으로 계산해보자.\n",
    "<br>단, b는 0이 아니다. 정수 2개가 공백을 두고 입력된다.\n",
    "<br>첫 번째 줄에 합\n",
    "<br>두 번째 줄에 차,\n",
    "<br>세 번째 줄에 곱,\n",
    "<br>네 번째 줄에 몫,\n",
    "<br>다섯 번째 줄에 나머지,\n",
    "<br>여섯 번째 줄에 나눈 값을 순서대로 출력한다.\n",
    "(실수, 소수점 이하 둘째 자리까지의 정확도로 출력)"
   ]
  },
  {
   "cell_type": "code",
   "execution_count": 3,
   "id": "a5dff08f",
   "metadata": {},
   "outputs": [
    {
     "name": "stdout",
     "output_type": "stream",
     "text": [
      "10 3\n",
      "13\n",
      "7\n",
      "30\n",
      "3\n",
      "1\n",
      "3.33\n"
     ]
    }
   ],
   "source": [
    "a, b = map(int, input().split())\n",
    "print(a + b)\n",
    "print(a - b)\n",
    "print(a * b)\n",
    "print(a // b)\n",
    "print(a % b)\n",
    "print(round(a / b, 2))"
   ]
  },
  {
   "cell_type": "markdown",
   "id": "4bdbdb29",
   "metadata": {},
   "source": [
    "### **6045 : [기초-산술연산] 정수 3개 입력받아 합과 평균 출력하기(설명)(py)**"
   ]
  },
  {
   "cell_type": "markdown",
   "id": "996e141b",
   "metadata": {},
   "source": [
    "정수 3개를 입력받아 합과 평균을 출력해보자.\n",
    "<br>정수 3개가 공백을 두고 입력된다.\n",
    "<br>합과 평균을 공백을 두고 출력한다.\n",
    "<br>평균은 소숫점 이하 셋째 자리에서 반올림하여 둘째 자리까지 출력한다."
   ]
  },
  {
   "cell_type": "code",
   "execution_count": 4,
   "id": "67280e89",
   "metadata": {},
   "outputs": [
    {
     "name": "stdout",
     "output_type": "stream",
     "text": [
      "1 2 3\n",
      "6 2.00\n"
     ]
    }
   ],
   "source": [
    "a, b, c = map(int, input().split())\n",
    "d = a + b + c\n",
    "e = (a + b + c) / 3\n",
    "print(d, \"%0.2f\" %  e)"
   ]
  },
  {
   "cell_type": "markdown",
   "id": "db991991",
   "metadata": {},
   "source": [
    "### **6046 : [기초-비트시프트연산] 정수 1개 입력받아 2배 곱해 출력하기(설명)(py)**"
   ]
  },
  {
   "cell_type": "markdown",
   "id": "2a274b31",
   "metadata": {},
   "source": [
    "정수 1개를 입력받아 2배 곱해 출력해보자."
   ]
  },
  {
   "cell_type": "code",
   "execution_count": 5,
   "id": "63734ac3",
   "metadata": {},
   "outputs": [
    {
     "name": "stdout",
     "output_type": "stream",
     "text": [
      "1024\n",
      "2048\n"
     ]
    }
   ],
   "source": [
    "n = int(input())\n",
    "print(n << 1)"
   ]
  },
  {
   "cell_type": "markdown",
   "id": "60bd117b",
   "metadata": {},
   "source": [
    "### **6047 : [기초-비트시프트연산] 2의 거듭제곱 배로 곱해 출력하기(설명)(py)**"
   ]
  },
  {
   "cell_type": "markdown",
   "id": "96bcfc61",
   "metadata": {},
   "source": [
    "정수 2개(a, b)를 입력받아 a를 2b배 곱한 값으로 출력해보자.\n",
    "<br>정수 2개(a, b)가 공백을 두고 입력된다."
   ]
  },
  {
   "cell_type": "code",
   "execution_count": 6,
   "id": "7fcde673",
   "metadata": {},
   "outputs": [
    {
     "name": "stdout",
     "output_type": "stream",
     "text": [
      "1 3\n",
      "8\n"
     ]
    }
   ],
   "source": [
    "a, b = map(int, input().split())\n",
    "print(a << b)"
   ]
  },
  {
   "cell_type": "markdown",
   "id": "09a2d587",
   "metadata": {},
   "source": [
    "### **6048 : [기초-비교연산] 정수 2개 입력받아 비교하기1(설명)(py)**"
   ]
  },
  {
   "cell_type": "markdown",
   "id": "034d75d2",
   "metadata": {},
   "source": [
    "두 정수(a, b)를 입력받아 a가 b보다 작으면 True 를, a가 b보다 크거나 같으면 False 를 출력하는 프로그램을 작성해보자.\n",
    "<br>두 정수(a, b)가 공백을 두고 입력된다."
   ]
  },
  {
   "cell_type": "code",
   "execution_count": 7,
   "id": "5ed9e4ed",
   "metadata": {},
   "outputs": [
    {
     "name": "stdout",
     "output_type": "stream",
     "text": [
      "1 9\n",
      "True\n"
     ]
    }
   ],
   "source": [
    "a, b = map(int, input().split())\n",
    "print(a < b)"
   ]
  },
  {
   "cell_type": "markdown",
   "id": "823ac9d5",
   "metadata": {},
   "source": [
    "### **6049 : [기초-비교연산] 정수 2개 입력받아 비교하기2(설명)(py)**"
   ]
  },
  {
   "cell_type": "markdown",
   "id": "a2a5feb9",
   "metadata": {},
   "source": [
    "두 정수(a, b)를 입력받아 a와 b의 값이 같으면 True 를, 같지 않으면 False 를 출력하는 프로그램을 작성해보자.\n",
    "<br>두 정수 a, b가 공백을 두고 입력된다."
   ]
  },
  {
   "cell_type": "code",
   "execution_count": 8,
   "id": "0c522cc2",
   "metadata": {},
   "outputs": [
    {
     "name": "stdout",
     "output_type": "stream",
     "text": [
      "0 0\n",
      "True\n"
     ]
    }
   ],
   "source": [
    "a, b = map(int, input().split())\n",
    "print(a == b)"
   ]
  },
  {
   "cell_type": "markdown",
   "id": "461777a6",
   "metadata": {},
   "source": [
    "### **6050 : [기초-비교연산] 정수 2개 입력받아 비교하기3(설명)(py)**"
   ]
  },
  {
   "cell_type": "markdown",
   "id": "227db2c8",
   "metadata": {},
   "source": [
    "두 정수(a, b)를 입력받아 b의 값이 a의 값 보다 크거나 같으면 True 를, 같지 않으면 False 를 출력하는 프로그램을 작성해보자.\n",
    "<br>2개의 정수(a, b)가 공백을 두고 입력된다."
   ]
  },
  {
   "cell_type": "code",
   "execution_count": 9,
   "id": "49608a0c",
   "metadata": {},
   "outputs": [
    {
     "name": "stdout",
     "output_type": "stream",
     "text": [
      "0 -1\n",
      "False\n"
     ]
    }
   ],
   "source": [
    "a, b = map(int, input().split())\n",
    "print(a <= b)"
   ]
  },
  {
   "cell_type": "markdown",
   "id": "a18370f7",
   "metadata": {},
   "source": [
    "### **6051 : [기초-비교연산] 정수 2개 입력받아 비교하기4(설명)(py)**"
   ]
  },
  {
   "cell_type": "markdown",
   "id": "3cdec836",
   "metadata": {},
   "source": [
    "두 정수(a, b)를 입력받아 a의 값이 b의 값과 서로 다르면 True 를, 같으면 False 를 출력하는 프로그램을 작성해보자.\n",
    "<br>2개의 정수(a, b)가 공백을 두고 입력된다."
   ]
  },
  {
   "cell_type": "code",
   "execution_count": 10,
   "id": "a2847605",
   "metadata": {},
   "outputs": [
    {
     "name": "stdout",
     "output_type": "stream",
     "text": [
      "0 1\n",
      "True\n"
     ]
    }
   ],
   "source": [
    "a, b = map(int, input().split())\n",
    "print(a != b)"
   ]
  },
  {
   "cell_type": "markdown",
   "id": "cde5d25f",
   "metadata": {},
   "source": [
    "### **6052 : [기초-논리연산] 정수 입력받아 참 거짓 평가하기(설명)(py)**"
   ]
  },
  {
   "cell_type": "markdown",
   "id": "8e4601b1",
   "metadata": {},
   "source": [
    "정수가 입력되었을 때, True/False 로 평가해주는 프로그램을 작성해보자."
   ]
  },
  {
   "cell_type": "code",
   "execution_count": 11,
   "id": "90b7b6d0",
   "metadata": {},
   "outputs": [
    {
     "name": "stdout",
     "output_type": "stream",
     "text": [
      "0\n",
      "False\n"
     ]
    }
   ],
   "source": [
    "n = int(input())\n",
    "print(bool(n))"
   ]
  },
  {
   "cell_type": "markdown",
   "id": "7b6eb725",
   "metadata": {},
   "source": [
    "### **6053 : [기초-논리연산] 참 거짓 바꾸기(설명)(py)**"
   ]
  },
  {
   "cell_type": "markdown",
   "id": "dea91b3d",
   "metadata": {},
   "source": [
    "정수값이 입력될 때, 그 불 값을 반대로 출력하는 프로그램을 작성해보자."
   ]
  },
  {
   "cell_type": "code",
   "execution_count": 12,
   "id": "67857aeb",
   "metadata": {},
   "outputs": [
    {
     "name": "stdout",
     "output_type": "stream",
     "text": [
      "1\n",
      "False\n"
     ]
    }
   ],
   "source": [
    "n = bool(int(input()))\n",
    "print(not(n))"
   ]
  },
  {
   "cell_type": "markdown",
   "id": "368a6101",
   "metadata": {},
   "source": [
    "### **6054 : [기초-논리연산] 둘 다 참일 경우만 참 출력하기(설명)(py)**"
   ]
  },
  {
   "cell_type": "markdown",
   "id": "7a82b3a2",
   "metadata": {},
   "source": [
    "2개의 정수값이 입력될 때, 그 불 값이 모두 True 일 때에만 True 를 출력하는 프로그램을 작성해보자.\n",
    "<br>2개의 정수가 공백을 두고 입력된다."
   ]
  },
  {
   "cell_type": "code",
   "execution_count": 13,
   "id": "ff3b02e3",
   "metadata": {},
   "outputs": [
    {
     "name": "stdout",
     "output_type": "stream",
     "text": [
      "1 1\n",
      "True\n"
     ]
    }
   ],
   "source": [
    "a, b = map(int, input().split())\n",
    "print(bool(a) and bool(b))"
   ]
  },
  {
   "cell_type": "markdown",
   "id": "6258b86a",
   "metadata": {},
   "source": [
    "### **6055 : [기초-논리연산] 하나라도 참이면 참 출력하기(설명)(py)**"
   ]
  },
  {
   "cell_type": "markdown",
   "id": "42f4bec3",
   "metadata": {},
   "source": [
    "2개의 정수값이 입력될 때, 그 불 값이 하나라도 True 일 때에만 True 를 출력하는 프로그램을 작성해보자.\n",
    "<br>2개의 정수가 공백을 두고 입력된다."
   ]
  },
  {
   "cell_type": "code",
   "execution_count": 14,
   "id": "2242d9ea",
   "metadata": {},
   "outputs": [
    {
     "name": "stdout",
     "output_type": "stream",
     "text": [
      "1 1\n",
      "True\n"
     ]
    }
   ],
   "source": [
    "a, b = map(int, input().split())\n",
    "print(bool(a) or bool(b))"
   ]
  },
  {
   "cell_type": "markdown",
   "id": "0a197c15",
   "metadata": {},
   "source": [
    "### **6056 : [기초-논리연산] 참/거짓이 서로 다를 때에만 참 출력하기(설명)(py)**"
   ]
  },
  {
   "cell_type": "markdown",
   "id": "8f023883",
   "metadata": {},
   "source": [
    "2개의 정수값이 입력될 때, 그 불 값(True/False) 이 서로 다를 때에만 True 를 출력하는 프로그램을 작성해보자.\n",
    "<br>2개의 정수가 공백을 두고 입력된다."
   ]
  },
  {
   "cell_type": "code",
   "execution_count": 15,
   "id": "c40a1366",
   "metadata": {},
   "outputs": [
    {
     "name": "stdout",
     "output_type": "stream",
     "text": [
      "1 1\n",
      "False\n"
     ]
    }
   ],
   "source": [
    "a, b = map(int, input().split())\n",
    "print((bool(a) and not bool(b)) or not bool(a) and bool(b))"
   ]
  },
  {
   "cell_type": "markdown",
   "id": "9218a48e",
   "metadata": {},
   "source": [
    "### **6057 : [기초-논리연산] 참/거짓이 서로 같을 때에만 참 출력하기(설명)(py)**"
   ]
  },
  {
   "cell_type": "markdown",
   "id": "30580447",
   "metadata": {},
   "source": [
    "2개의 정수값이 입력될 때, 그 불 값(True/False) 이 서로 같을 때에만 True 를 출력하는 프로그램을 작성해보자.\n",
    "<br>2개의 정수가 공백을 두고 입력된다."
   ]
  },
  {
   "cell_type": "code",
   "execution_count": 16,
   "id": "154b86fc",
   "metadata": {},
   "outputs": [
    {
     "name": "stdout",
     "output_type": "stream",
     "text": [
      "0 0\n",
      "True\n"
     ]
    }
   ],
   "source": [
    "a, b = map(int, input().split())\n",
    "print(bool(a) and bool(b) or not bool(a) and not bool(b))"
   ]
  },
  {
   "cell_type": "markdown",
   "id": "d2f0b2e9",
   "metadata": {},
   "source": [
    "### **6058 : [기초-논리연산] 둘 다 거짓일 경우만 참 출력하기(py)**"
   ]
  },
  {
   "cell_type": "markdown",
   "id": "d9316a94",
   "metadata": {},
   "source": [
    "2개의 정수값이 입력될 때, 그 불 값(True/False) 이 모두 False 일 때에만 True 를 출력하는 프로그램을 작성해보자.\n",
    "<br>2개의 정수가 공백을 두고 입력된다."
   ]
  },
  {
   "cell_type": "code",
   "execution_count": 17,
   "id": "ff7e4113",
   "metadata": {},
   "outputs": [
    {
     "name": "stdout",
     "output_type": "stream",
     "text": [
      "0 0\n",
      "True\n"
     ]
    }
   ],
   "source": [
    "a, b = map(int, input().split())\n",
    "print(not bool(a) and not bool(b))"
   ]
  },
  {
   "cell_type": "markdown",
   "id": "a2eec538",
   "metadata": {},
   "source": [
    "### **6059 : [기초-비트단위논리연산] 비트단위로 NOT 하여 출력하기(설명)(py)**"
   ]
  },
  {
   "cell_type": "markdown",
   "id": "f2a6bc36",
   "metadata": {},
   "source": [
    "입력 된 정수를 비트단위로 참/거짓을 바꾼 후 정수로 출력해보자."
   ]
  },
  {
   "cell_type": "code",
   "execution_count": 18,
   "id": "cc569474",
   "metadata": {},
   "outputs": [
    {
     "name": "stdout",
     "output_type": "stream",
     "text": [
      "2\n",
      "-3\n"
     ]
    }
   ],
   "source": [
    "a = int(input())\n",
    "print(~a)"
   ]
  },
  {
   "cell_type": "markdown",
   "id": "b85c5aee",
   "metadata": {},
   "source": [
    "### **6060 : [기초-비트단위논리연산] 비트단위로 AND 하여 출력하기(설명)(py)**"
   ]
  },
  {
   "cell_type": "markdown",
   "id": "aef9cf13",
   "metadata": {},
   "source": [
    "입력된 정수 두 개를 비트단위로 and 연산한 후 그 결과를 정수로 출력해보자.\n",
    "<br>2개의 정수가 공백을 두고 입력된다."
   ]
  },
  {
   "cell_type": "code",
   "execution_count": 19,
   "id": "043ea525",
   "metadata": {},
   "outputs": [
    {
     "name": "stdout",
     "output_type": "stream",
     "text": [
      "3 5\n",
      "1\n"
     ]
    }
   ],
   "source": [
    "a, b = map(int, input().split())\n",
    "print(a & b)"
   ]
  }
 ],
 "metadata": {
  "kernelspec": {
   "display_name": "Python 3 (ipykernel)",
   "language": "python",
   "name": "python3"
  },
  "language_info": {
   "codemirror_mode": {
    "name": "ipython",
    "version": 3
   },
   "file_extension": ".py",
   "mimetype": "text/x-python",
   "name": "python",
   "nbconvert_exporter": "python",
   "pygments_lexer": "ipython3",
   "version": "3.9.7"
  }
 },
 "nbformat": 4,
 "nbformat_minor": 5
}
