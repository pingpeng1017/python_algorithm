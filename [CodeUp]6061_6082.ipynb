{
 "cells": [
  {
   "cell_type": "markdown",
   "id": "356411da",
   "metadata": {},
   "source": [
    "### **6061 : [기초-비트단위논리연산] 비트단위로 OR 하여 출력하기(설명)(py)**"
   ]
  },
  {
   "cell_type": "markdown",
   "id": "077ae0f3",
   "metadata": {},
   "source": [
    "입력된 정수 두 개를 비트단위로 or 연산한 후 그 결과를 정수로 출력해보자.\n",
    "<br>2개의 정수가 공백을 두고 입력된다."
   ]
  },
  {
   "cell_type": "code",
   "execution_count": 1,
   "id": "41c16662",
   "metadata": {},
   "outputs": [
    {
     "name": "stdout",
     "output_type": "stream",
     "text": [
      "3 5\n",
      "7\n"
     ]
    }
   ],
   "source": [
    "a, b = map(int, input().split())\n",
    "print(a | b)"
   ]
  },
  {
   "cell_type": "markdown",
   "id": "ef020e8d",
   "metadata": {},
   "source": [
    "### **6062 : [기초-비트단위논리연산] 비트단위로 XOR 하여 출력하기(설명)(py)**"
   ]
  },
  {
   "cell_type": "markdown",
   "id": "34012442",
   "metadata": {},
   "source": [
    "입력된 정수 두 개를 비트단위로 xor 연산한 후 그 결과를 정수로 출력해보자.\n",
    "<br>2개의 정수가 공백을 두고 입력된다."
   ]
  },
  {
   "cell_type": "code",
   "execution_count": 2,
   "id": "be581c02",
   "metadata": {},
   "outputs": [
    {
     "name": "stdout",
     "output_type": "stream",
     "text": [
      "3 5\n",
      "6\n"
     ]
    }
   ],
   "source": [
    "a, b = map(int, input().split())\n",
    "print(a ^ b)"
   ]
  },
  {
   "cell_type": "markdown",
   "id": "fae92aa6",
   "metadata": {},
   "source": [
    "### **6063 : [기초-3항연산] 정수 2개 입력받아 큰 값 출력하기(설명)(py)**"
   ]
  },
  {
   "cell_type": "markdown",
   "id": "cb5b571c",
   "metadata": {},
   "source": [
    "입력된 두 정수(a, b) 중 큰 값을 출력하는 프로그램을 작성해보자.\n",
    "<br>단, 3항 연산을 사용한다.\n",
    "<br>두 정수가 공백을 두고 입력된다."
   ]
  },
  {
   "cell_type": "code",
   "execution_count": 3,
   "id": "88e23a30",
   "metadata": {},
   "outputs": [
    {
     "name": "stdout",
     "output_type": "stream",
     "text": [
      "123 456\n",
      "456\n"
     ]
    }
   ],
   "source": [
    "a, b = map(int, input().split())\n",
    "c = a if a >= b else b\n",
    "print(c)"
   ]
  },
  {
   "cell_type": "markdown",
   "id": "4afe5058",
   "metadata": {},
   "source": [
    "### **6064 : [기초-3항연산] 정수 3개 입력받아 가장 작은 값 출력하기(설명)(py)**"
   ]
  },
  {
   "cell_type": "markdown",
   "id": "1d059a3f",
   "metadata": {},
   "source": [
    "입력된 세 정수 a, b, c 중 가장 작은 값을 출력하는 프로그램을 작성해보자.\n",
    "<br>단, 3항 연산을 사용한다.\n",
    "<br>3개의 정수가 공백으로 구분되어 입력된다."
   ]
  },
  {
   "cell_type": "code",
   "execution_count": 4,
   "id": "18db438b",
   "metadata": {},
   "outputs": [
    {
     "name": "stdout",
     "output_type": "stream",
     "text": [
      "3 -1 5\n",
      "-1\n"
     ]
    }
   ],
   "source": [
    "a, b, c = map(int, input().split())\n",
    "d = a if a < b else b\n",
    "e = d if d < c else c\n",
    "print(e)"
   ]
  },
  {
   "cell_type": "markdown",
   "id": "42a8632f",
   "metadata": {},
   "source": [
    "### **6065 : [기초-조건/선택실행구조] 정수 3개 입력받아 짝수만 출력하기(설명)(py)**"
   ]
  },
  {
   "cell_type": "markdown",
   "id": "6fc8445c",
   "metadata": {},
   "source": [
    "3개의 정수(a, b, c)가 입력되었을 때, 짝수만 출력해보자.\n",
    "<br>3개의 정수(a, b, c)가 공백을 두고 입력된다.\n",
    "<br>짝수만 순서대로 줄을 바꿔 출력한다."
   ]
  },
  {
   "cell_type": "code",
   "execution_count": 5,
   "id": "5cb77061",
   "metadata": {},
   "outputs": [
    {
     "name": "stdout",
     "output_type": "stream",
     "text": [
      "1 2 4\n",
      "2\n",
      "4\n"
     ]
    }
   ],
   "source": [
    "a, b, c = map(int, input().split())\n",
    "\n",
    "if a % 2 == 0:\n",
    "    print(a)\n",
    "if b % 2 == 0:\n",
    "    print(b)\n",
    "if c % 2 == 0:\n",
    "    print(c)"
   ]
  },
  {
   "cell_type": "markdown",
   "id": "91df3aa3",
   "metadata": {},
   "source": [
    "### **6066 : [기초-조건/선택실행구조] 정수 3개 입력받아 짝/홀 출력하기(설명)(py)**"
   ]
  },
  {
   "cell_type": "markdown",
   "id": "b69e9e64",
   "metadata": {},
   "source": [
    "3개의 정수(a, b, c)가 입력되었을 때, 짝(even)/홀(odd)을 출력해보자.\n",
    "<br>3개의 정수(a, b, c)가 공백을 두고 입력된다.\n",
    "<br>입력된 순서대로 짝(even)/홀(odd)을 줄을 바꿔 출력한다."
   ]
  },
  {
   "cell_type": "code",
   "execution_count": 6,
   "id": "09405ab3",
   "metadata": {},
   "outputs": [
    {
     "name": "stdout",
     "output_type": "stream",
     "text": [
      "1 2 8\n",
      "odd\n",
      "even\n",
      "even\n"
     ]
    }
   ],
   "source": [
    "a, b, c = map(int, input().split())\n",
    "\n",
    "if a % 2 == 0:\n",
    "    print('even')\n",
    "else:\n",
    "    print('odd')\n",
    "if b % 2 == 0:\n",
    "    print('even')\n",
    "else:\n",
    "    print('odd')\n",
    "if c % 2 == 0:\n",
    "    print('even')\n",
    "else:\n",
    "    print('odd')"
   ]
  },
  {
   "cell_type": "markdown",
   "id": "ecc3f85f",
   "metadata": {},
   "source": [
    "### **6067 : [기초-조건/선택실행구조] 정수 1개 입력받아 분류하기(설명)(py)**"
   ]
  },
  {
   "cell_type": "markdown",
   "id": "d0e08582",
   "metadata": {},
   "source": [
    "0이 아닌 정수 1개가 입력되었을 때, 음(-)/양(+)과 짝(even)/홀(odd)을 구분해 분류해보자.\n",
    "<br>음수이면서 짝수이면, A\n",
    "<br>음수이면서 홀수이면, B\n",
    "<br>양수이면서 짝수이면, C\n",
    "<br>양수이면서 홀수이면, D\n",
    "<br>를 출력한다."
   ]
  },
  {
   "cell_type": "code",
   "execution_count": 7,
   "id": "15ce779e",
   "metadata": {},
   "outputs": [
    {
     "name": "stdout",
     "output_type": "stream",
     "text": [
      "-23413\n",
      "B\n"
     ]
    }
   ],
   "source": [
    "a = int(input())\n",
    "\n",
    "if a < 0:\n",
    "    if a % 2 == 0:\n",
    "        print('A')\n",
    "    else:\n",
    "        print('B')\n",
    "else:\n",
    "    if a % 2 == 0:\n",
    "        print('C')\n",
    "    else:\n",
    "        print('D')"
   ]
  },
  {
   "cell_type": "markdown",
   "id": "374d2a76",
   "metadata": {},
   "source": [
    "### **6068 : [기초-조건/선택실행구조] 점수 입력받아 평가 출력하기(설명)(py)**"
   ]
  },
  {
   "cell_type": "markdown",
   "id": "6eb3f821",
   "metadata": {},
   "source": [
    "점수(정수, 0 ~ 100)를 입력받아 평가를 출력해보자."
   ]
  },
  {
   "cell_type": "markdown",
   "id": "eb997e19",
   "metadata": {},
   "source": [
    "평가 기준\n",
    "<br>점수 범위 : 평가\n",
    "<br>90 ~ 100 : A\n",
    "<br>70 ~ 89 : B\n",
    "<br>40 ~ 69 : C\n",
    "<br>0 ~ 39 : D\n",
    "<br>로 평가되어야 한다."
   ]
  },
  {
   "cell_type": "code",
   "execution_count": 8,
   "id": "26964ba8",
   "metadata": {},
   "outputs": [
    {
     "name": "stdout",
     "output_type": "stream",
     "text": [
      "73\n",
      "B\n"
     ]
    }
   ],
   "source": [
    "score = int(input())\n",
    "\n",
    "if score >= 90 and score <= 100:\n",
    "    print('A')\n",
    "elif score >= 70 and score <= 89:\n",
    "    print('B')\n",
    "elif score >= 40 and score <= 69:\n",
    "    print('C')\n",
    "else:\n",
    "    print('D')"
   ]
  },
  {
   "cell_type": "markdown",
   "id": "c88f2d05",
   "metadata": {},
   "source": [
    "### **6069 : [기초-조건/선택실행구조] 평가 입력받아 다르게 출력하기(py)**"
   ]
  },
  {
   "cell_type": "markdown",
   "id": "457818ac",
   "metadata": {},
   "source": [
    "평가를 문자(A, B, C, D, ...)로 입력받아 내용을 다르게 출력해보자."
   ]
  },
  {
   "cell_type": "markdown",
   "id": "4257db70",
   "metadata": {},
   "source": [
    "평가 내용\n",
    "<br>평가 : 내용\n",
    "<br>A : best!!!\n",
    "<br>B : good!!\n",
    "<br>C : run!\n",
    "<br>D : slowly~\n",
    "<br>나머지 문자들: what?"
   ]
  },
  {
   "cell_type": "code",
   "execution_count": 9,
   "id": "630e3660",
   "metadata": {},
   "outputs": [
    {
     "name": "stdout",
     "output_type": "stream",
     "text": [
      "A\n",
      "best!!!\n"
     ]
    }
   ],
   "source": [
    "letter = input()\n",
    "\n",
    "if letter == 'A':\n",
    "    print('best!!!')\n",
    "elif letter == 'B':\n",
    "    print('good!!')\n",
    "elif letter == 'C':\n",
    "    print('run!')\n",
    "elif letter == 'D':\n",
    "    print('slowly~')\n",
    "else:\n",
    "    print('what?')"
   ]
  },
  {
   "cell_type": "markdown",
   "id": "e9348fe7",
   "metadata": {},
   "source": [
    "### **6070 : [기초-조건/선택실행구조] 월 입력받아 계절 출력하기(설명)(py)**"
   ]
  },
  {
   "cell_type": "markdown",
   "id": "4f519eb1",
   "metadata": {},
   "source": [
    "월이 입력될 때 계절 이름이 출력되도록 해보자."
   ]
  },
  {
   "cell_type": "markdown",
   "id": "5ac0099e",
   "metadata": {},
   "source": [
    "월 : 계절 이름\n",
    "<br>12, 1, 2 : winter\n",
    "<br>3, 4, 5 : spring\n",
    "<br>6, 7, 8 : summer\n",
    "<br>9, 10, 11 : fall"
   ]
  },
  {
   "cell_type": "code",
   "execution_count": 10,
   "id": "33178cdd",
   "metadata": {},
   "outputs": [
    {
     "name": "stdout",
     "output_type": "stream",
     "text": [
      "12\n",
      "winter\n"
     ]
    }
   ],
   "source": [
    "month = int(input())\n",
    "\n",
    "if month // 3 == 1:\n",
    "    print(\"spring\")\n",
    "elif month // 3 == 2:\n",
    "    print(\"summer\")\n",
    "elif month // 3 == 3:\n",
    "    print(\"fall\")\n",
    "else:\n",
    "    print(\"winter\")"
   ]
  },
  {
   "cell_type": "markdown",
   "id": "a681ed64",
   "metadata": {},
   "source": [
    "### **6071 : [기초-반복실행구조] 0 입력될 때까지 무한 출력하기(설명)(py)**"
   ]
  },
  {
   "cell_type": "markdown",
   "id": "a516c859",
   "metadata": {},
   "source": [
    "임의의 정수가 줄을 바꿔 계속 입력된다.\n",
    "<br>단 개수는 알 수 없다.\n",
    "<br>0이 아니면 입력된 정수를 출력하고, 0이 입력되면 출력을 중단해보자.\n",
    "<br>임의의 정수가 줄을 바꿔 계속 입력된다."
   ]
  },
  {
   "cell_type": "code",
   "execution_count": 11,
   "id": "7095f94e",
   "metadata": {},
   "outputs": [
    {
     "name": "stdout",
     "output_type": "stream",
     "text": [
      "4\n",
      "4\n",
      "3\n",
      "3\n",
      "4\n",
      "4\n",
      "5\n",
      "5\n",
      "0\n"
     ]
    }
   ],
   "source": [
    "n = 1\n",
    "while n != 0:\n",
    "    n = int(input())\n",
    "    if n != 0:\n",
    "        print(n)"
   ]
  },
  {
   "cell_type": "code",
   "execution_count": 12,
   "id": "ac92cb80",
   "metadata": {},
   "outputs": [
    {
     "name": "stdout",
     "output_type": "stream",
     "text": [
      "3\n",
      "3\n",
      "4\n",
      "4\n",
      "5\n",
      "5\n",
      "1\n",
      "1\n",
      "0\n"
     ]
    }
   ],
   "source": [
    "while True:\n",
    "    n = int(input())\n",
    "    if n == 0:\n",
    "        break\n",
    "    else:\n",
    "        print(n)"
   ]
  },
  {
   "cell_type": "markdown",
   "id": "f6725423",
   "metadata": {},
   "source": [
    "### **6072 : [기초-반복실행구조] 정수 1개 입력받아 카운트다운 출력하기1(설명)(py)**"
   ]
  },
  {
   "cell_type": "markdown",
   "id": "6c497b1e",
   "metadata": {},
   "source": [
    "정수(1 ~ 100) 1개가 입력되었을 때 카운트다운을 출력해보자.\n",
    "<br>1만큼씩 줄이면서 한 줄에 1개씩 카운트다운 수를 출력한다."
   ]
  },
  {
   "cell_type": "code",
   "execution_count": 13,
   "id": "a8f9fd70",
   "metadata": {},
   "outputs": [
    {
     "name": "stdout",
     "output_type": "stream",
     "text": [
      "5\n",
      "5\n",
      "4\n",
      "3\n",
      "2\n",
      "1\n"
     ]
    }
   ],
   "source": [
    "n = int(input())\n",
    "\n",
    "while True:\n",
    "    print(n)\n",
    "    n -= 1\n",
    "    if n == 0:\n",
    "        break"
   ]
  },
  {
   "cell_type": "code",
   "execution_count": 14,
   "id": "6e892def",
   "metadata": {},
   "outputs": [
    {
     "name": "stdout",
     "output_type": "stream",
     "text": [
      "8\n",
      "8\n",
      "7\n",
      "6\n",
      "5\n",
      "4\n",
      "3\n",
      "2\n",
      "1\n"
     ]
    }
   ],
   "source": [
    "n = int(input())\n",
    "\n",
    "while n != 0:\n",
    "    print(n)\n",
    "    n -= 1"
   ]
  },
  {
   "cell_type": "markdown",
   "id": "37a7af13",
   "metadata": {},
   "source": [
    "### **6073 : [기초-반복실행구조] 정수 1개 입력받아 카운트다운 출력하기2(py)**"
   ]
  },
  {
   "cell_type": "markdown",
   "id": "7cbffde7",
   "metadata": {},
   "source": [
    "정수(1 ~ 100) 1개가 입력되었을 때 카운트다운을 출력해보자.\n",
    "<br>1만큼씩 줄이면서 카운트다운 수가 0이 될 때까지 한 줄에 1개씩 출력한다."
   ]
  },
  {
   "cell_type": "code",
   "execution_count": 15,
   "id": "6306b853",
   "metadata": {},
   "outputs": [
    {
     "name": "stdout",
     "output_type": "stream",
     "text": [
      "5\n",
      "4\n",
      "3\n",
      "2\n",
      "1\n",
      "0\n"
     ]
    }
   ],
   "source": [
    "n = int(input())\n",
    "\n",
    "while n != 0:\n",
    "    print(n - 1)\n",
    "    n -= 1"
   ]
  },
  {
   "cell_type": "markdown",
   "id": "b1f80fdb",
   "metadata": {},
   "source": [
    "### **6074 : [기초-반복실행구조] 문자 1개 입력받아 알파벳 출력하기(설명)(py)**"
   ]
  },
  {
   "cell_type": "markdown",
   "id": "135e9f2b",
   "metadata": {},
   "source": [
    "영문 소문자(a ~ z) 1개가 입력되었을 때, a부터 그 문자까지의 알파벳을 순서대로 출력해보자.\n",
    "<br>a부터 입력한 문자까지 순서대로 공백을 두고 한 줄로 출력한다."
   ]
  },
  {
   "cell_type": "code",
   "execution_count": 16,
   "id": "716c5ab1",
   "metadata": {},
   "outputs": [
    {
     "name": "stdout",
     "output_type": "stream",
     "text": [
      "f\n",
      "a b c d e f "
     ]
    }
   ],
   "source": [
    "c = ord(input())\n",
    "t = ord('a')\n",
    "\n",
    "while t <= c:\n",
    "    print(chr(t), end=' ')\n",
    "    t += 1"
   ]
  },
  {
   "cell_type": "markdown",
   "id": "517a10e2",
   "metadata": {},
   "source": [
    "### **6075 : [기초-반복실행구조] 정수 1개 입력받아 그 수까지 출력하기1(py)**"
   ]
  },
  {
   "cell_type": "markdown",
   "id": "36558f62",
   "metadata": {},
   "source": [
    "정수(0 ~ 100) 1개를 입력받아 0부터 그 수까지 순서대로 출력해보자.\n",
    "<br>0부터 그 수까지 줄을 바꿔 한 개씩 출력한다."
   ]
  },
  {
   "cell_type": "code",
   "execution_count": 17,
   "id": "2cb25bb7",
   "metadata": {},
   "outputs": [
    {
     "name": "stdout",
     "output_type": "stream",
     "text": [
      "4\n",
      "0\n",
      "1\n",
      "2\n",
      "3\n",
      "4\n"
     ]
    }
   ],
   "source": [
    "a = int(input())\n",
    "b = 0\n",
    "\n",
    "while b <= a:\n",
    "    print(b)\n",
    "    b += 1"
   ]
  },
  {
   "cell_type": "markdown",
   "id": "ec63fd82",
   "metadata": {},
   "source": [
    "### **6076 : [기초-반복실행구조] 정수 1개 입력받아 그 수까지 출력하기2(설명)(py)**"
   ]
  },
  {
   "cell_type": "markdown",
   "id": "dee25a7d",
   "metadata": {},
   "source": [
    "정수(0 ~ 100) 1개를 입력받아 0부터 그 수까지 순서대로 출력해보자.\n",
    "<br>0부터 그 수까지 줄을 바꿔 한 개씩 출력한다."
   ]
  },
  {
   "cell_type": "code",
   "execution_count": 18,
   "id": "50a09c9a",
   "metadata": {},
   "outputs": [
    {
     "name": "stdout",
     "output_type": "stream",
     "text": [
      "4\n",
      "0\n",
      "1\n",
      "2\n",
      "3\n",
      "4\n"
     ]
    }
   ],
   "source": [
    "n = int(input())\n",
    "\n",
    "for i in range(n + 1):\n",
    "    print(i)"
   ]
  },
  {
   "cell_type": "markdown",
   "id": "56effbbe",
   "metadata": {},
   "source": [
    "### **6077 : [기초-종합] 짝수 합 구하기(설명)(py)**"
   ]
  },
  {
   "cell_type": "markdown",
   "id": "8e5633b7",
   "metadata": {},
   "source": [
    "정수(1 ~ 100) 1개를 입력받아 1부터 그 수까지 짝수의 합을 구해보자."
   ]
  },
  {
   "cell_type": "code",
   "execution_count": 19,
   "id": "a74696ad",
   "metadata": {},
   "outputs": [
    {
     "name": "stdout",
     "output_type": "stream",
     "text": [
      "5\n",
      "6\n"
     ]
    }
   ],
   "source": [
    "n = int(input())\n",
    "sum = 0\n",
    "\n",
    "for i in range(n + 1):\n",
    "    if i % 2 == 0:\n",
    "        sum += i\n",
    "        \n",
    "print(sum)"
   ]
  },
  {
   "cell_type": "markdown",
   "id": "f2510705",
   "metadata": {},
   "source": [
    "### **6078 : [기초-종합] 원하는 문자가 입력될 때까지 반복 출력하기(py)**"
   ]
  },
  {
   "cell_type": "markdown",
   "id": "102ba81b",
   "metadata": {},
   "source": [
    "영문 소문자 'q'가 입력될 때까지 입력한 문자를 계속 출력하는 프로그램을 작성해보자."
   ]
  },
  {
   "cell_type": "code",
   "execution_count": 20,
   "id": "2b685be3",
   "metadata": {},
   "outputs": [
    {
     "name": "stdout",
     "output_type": "stream",
     "text": [
      "w\n",
      "w\n",
      "g\n",
      "g\n",
      "s\n",
      "s\n",
      "d\n",
      "d\n",
      "g\n",
      "g\n",
      "q\n",
      "q\n"
     ]
    }
   ],
   "source": [
    "while True:\n",
    "    a = input()\n",
    "    print(a)\n",
    "    if a == 'q':\n",
    "        break"
   ]
  },
  {
   "cell_type": "markdown",
   "id": "9c5f7be5",
   "metadata": {},
   "source": [
    "### **6079 : [기초-종합] 언제까지 더해야 할까?(py)**"
   ]
  },
  {
   "cell_type": "markdown",
   "id": "eff64c0c",
   "metadata": {},
   "source": [
    "1, 2, 3 ... 을 계속 더해 나갈 때, 그 합이 입력한 정수(0 ~ 1000)보다 같거나 작을 때까지만 계속 더하는 프로그램을 작성해보자.\n",
    "<br>1, 2, 3, 4, 5 ... 를 순서대로 계속 더해 합을 만들어가다가, 입력된 정수와 같거나 커졌을 때, 마지막에 더한 정수를 출력한다."
   ]
  },
  {
   "cell_type": "code",
   "execution_count": 21,
   "id": "b1afa799",
   "metadata": {},
   "outputs": [
    {
     "name": "stdout",
     "output_type": "stream",
     "text": [
      "55\n",
      "10\n"
     ]
    }
   ],
   "source": [
    "n = int(input())\n",
    "i = 1\n",
    "sum = 0\n",
    "\n",
    "while sum < n:\n",
    "    sum += i\n",
    "    i += 1\n",
    "print(i - 1)"
   ]
  },
  {
   "cell_type": "markdown",
   "id": "ebb1e5b0",
   "metadata": {},
   "source": [
    "### **6080 : [기초-종합] 주사위 2개 던지기(설명)(py)**"
   ]
  },
  {
   "cell_type": "markdown",
   "id": "a6371523",
   "metadata": {},
   "source": [
    "1부터 n까지, 1부터 m까지 숫자가 적힌 서로 다른 주사위 2개를 던졌을 때, 나올 수 있는 모든 경우를 출력해보자.\n",
    "<br>서로 다른 주사위 2개의 면의 개수 n, m이 공백을 두고 입력된다. (단, n, m은 10이하의 자연수)\n",
    "<br>나올 수 있는 주사위의 숫자를 한 세트씩 줄을 바꿔 모두 출력한다.\n",
    "<br>첫 번째 수는 n, 두 번째 수는 m으로 고정해 1부터 오름차순 순서로 출력하도록 한다."
   ]
  },
  {
   "cell_type": "code",
   "execution_count": 22,
   "id": "ef8c5854",
   "metadata": {},
   "outputs": [
    {
     "name": "stdout",
     "output_type": "stream",
     "text": [
      "2 3\n",
      "1 1\n",
      "1 2\n",
      "1 3\n",
      "2 1\n",
      "2 2\n",
      "2 3\n"
     ]
    }
   ],
   "source": [
    "n, m = map(int, input().split())\n",
    "\n",
    "for i in range(1, n + 1):\n",
    "    for j in range(1, m + 1):\n",
    "        print(i, j)"
   ]
  },
  {
   "cell_type": "markdown",
   "id": "0d79f9ca",
   "metadata": {},
   "source": [
    "### **6081 : [기초-종합] 16진수 구구단 출력하기(py)**"
   ]
  },
  {
   "cell_type": "markdown",
   "id": "39cc71a2",
   "metadata": {},
   "source": [
    "16진수(0, 1, 2, 3, 4, 5, 6, 7, 8, 9, A, B, C, D, E, F)를 배운 영일이는 16진수끼리 곱하는 16진수 구구단에 대해서 궁금해졌다.\n",
    "<br>A, B, C, D, E, F 중 하나가 입력될 때, 1부터 F까지 곱한 16진수 구구단의 내용을 출력해보자. (단, A ~ F 까지만 입력된다.)\n",
    "<br>입력된 16진수에 1~F까지 순서대로 곱한, 16진수 구구단을 줄을 바꿔 출력한다.\n",
    "<br>계산 결과도 16진수로 출력해야 한다."
   ]
  },
  {
   "cell_type": "code",
   "execution_count": 23,
   "id": "b1cf1316",
   "metadata": {},
   "outputs": [
    {
     "name": "stdout",
     "output_type": "stream",
     "text": [
      "B\n",
      "B*1=B\n",
      "B*2=16\n",
      "B*3=21\n",
      "B*4=2C\n",
      "B*5=37\n",
      "B*6=42\n",
      "B*7=4D\n",
      "B*8=58\n",
      "B*9=63\n",
      "B*A=6E\n",
      "B*B=79\n",
      "B*C=84\n",
      "B*D=8F\n",
      "B*E=9A\n",
      "B*F=A5\n"
     ]
    }
   ],
   "source": [
    "n = int(input(), 16)\n",
    "\n",
    "for i in range(1, 16):\n",
    "    print('%X'%n, '*%X'%i, '=%X'%(n*i), sep='')"
   ]
  },
  {
   "cell_type": "markdown",
   "id": "54e5742b",
   "metadata": {},
   "source": [
    "### **6082 : [기초-종합] 3 6 9 게임의 왕이 되자(설명)(py)**"
   ]
  },
  {
   "cell_type": "markdown",
   "id": "3a85742b",
   "metadata": {},
   "source": [
    "친구들과 함께 3 6 9 게임을 하던 영일이는 잦은 실수 때문에 계속해서 벌칙을 받게 되었다.\n",
    "<br>3 6 9 게임의 왕이 되기 위한 369 마스터 프로그램을 작성해 보자.\n",
    "<br>1부터 그 수까지 순서대로 공백을 두고 수를 출력하는데, 3 또는 6 또는 9가 포함 되어있는 수인 경우, 그 수 대신 영문 대문자 X를 출력한다."
   ]
  },
  {
   "cell_type": "code",
   "execution_count": 24,
   "id": "3ee074c4",
   "metadata": {},
   "outputs": [
    {
     "name": "stdout",
     "output_type": "stream",
     "text": [
      "9\n",
      "1 2 X 4 5 X 7 8 X "
     ]
    }
   ],
   "source": [
    "n = int(input())\n",
    "\n",
    "for i in range(1, n + 1):\n",
    "    if i % 10 == 3 or i % 10 == 6 or i % 10 == 9:\n",
    "        print('X', end=' ')\n",
    "    else:\n",
    "        print(i, end=' ')\n",
    "        i += 1"
   ]
  }
 ],
 "metadata": {
  "kernelspec": {
   "display_name": "Python 3 (ipykernel)",
   "language": "python",
   "name": "python3"
  },
  "language_info": {
   "codemirror_mode": {
    "name": "ipython",
    "version": 3
   },
   "file_extension": ".py",
   "mimetype": "text/x-python",
   "name": "python",
   "nbconvert_exporter": "python",
   "pygments_lexer": "ipython3",
   "version": "3.9.7"
  }
 },
 "nbformat": 4,
 "nbformat_minor": 5
}
